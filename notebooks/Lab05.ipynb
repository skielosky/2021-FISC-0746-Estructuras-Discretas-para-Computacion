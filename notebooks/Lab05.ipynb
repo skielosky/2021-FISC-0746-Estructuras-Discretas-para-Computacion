{
  "nbformat": 4,
  "nbformat_minor": 0,
  "metadata": {
    "kernelspec": {
      "display_name": "Python 3",
      "language": "python",
      "name": "python3"
    },
    "language_info": {
      "codemirror_mode": {
        "name": "ipython",
        "version": 3
      },
      "file_extension": ".py",
      "mimetype": "text/x-python",
      "name": "python",
      "nbconvert_exporter": "python",
      "pygments_lexer": "ipython3",
      "version": "3.6.5"
    },
    "colab": {
      "name": "Lab05.ipynb",
      "provenance": []
    }
  },
  "cells": [
    {
      "cell_type": "markdown",
      "metadata": {
        "id": "jSnFtBHsjpko"
      },
      "source": [
        "![alt text](http://www.fisc.utp.ac.pa/sites/all/themes/custom/sub_facultad/tropical_fisc/logo.png)\n",
        "\n",
        "# Universidad Tecnológica de Panamá\n",
        "### Facultad de Ingeniería de Sistemas Computacionales\n",
        "### Departamento de Computación y Simulación de Sistemas\n",
        "### Estructuras Discretas para la Computación\n",
        "#### Prof. Ezequiel Aguilar González\n",
        "\n",
        "\n",
        "\n"
      ]
    },
    {
      "cell_type": "markdown",
      "metadata": {
        "id": "yHd2fCEijbwV"
      },
      "source": [
        "# Funciones"
      ]
    },
    {
      "cell_type": "code",
      "metadata": {
        "id": "r7LEqhc3jbwW",
        "colab": {
          "base_uri": "https://localhost:8080/"
        },
        "outputId": "505fa6f9-7296-4cfa-fb02-147771fdc7e3"
      },
      "source": [
        "# Su primera funcion\n",
        "\n",
        "def printInformacion():\n",
        "    print('Name: Maria Soledad')\n",
        "    print('Lugar de Nacimiento: Panama' )\n",
        "    print('Edad: 21')\n",
        "    \n",
        "printInformacion()  \n"
      ],
      "execution_count": 2,
      "outputs": [
        {
          "output_type": "stream",
          "text": [
            "Name: Maria Soledad\n",
            "Lugar de Nacimiento: Panama\n",
            "Edad: 21\n"
          ],
          "name": "stdout"
        }
      ]
    },
    {
      "cell_type": "code",
      "metadata": {
        "id": "NZktqjtojbwZ",
        "colab": {
          "base_uri": "https://localhost:8080/"
        },
        "outputId": "deb5b9bb-a747-449c-a8c4-dbd30e4fa8bc"
      },
      "source": [
        "# Calculos en una funcion\n",
        "\n",
        "def calc():\n",
        "    x, y = 5, 11\n",
        "    print(x + y)\n",
        "    \n",
        "calc()"
      ],
      "execution_count": 3,
      "outputs": [
        {
          "output_type": "stream",
          "text": [
            "16\n"
          ],
          "name": "stdout"
        }
      ]
    },
    {
      "cell_type": "code",
      "metadata": {
        "colab": {
          "base_uri": "https://localhost:8080/"
        },
        "id": "zDhnaR_MhKQ5",
        "outputId": "17891a3e-b065-4ef8-a7e8-32c239201971"
      },
      "source": [
        "a = 12\n",
        "def calc2():\n",
        "  a = 10\n",
        "  print(a)\n",
        "\n",
        "calc2()\n",
        "print(a)\n",
        "\n"
      ],
      "execution_count": 5,
      "outputs": [
        {
          "output_type": "stream",
          "text": [
            "10\n",
            "12\n"
          ],
          "name": "stdout"
        }
      ]
    },
    {
      "cell_type": "markdown",
      "metadata": {
        "id": "KP5iQ9Wzjbwc"
      },
      "source": [
        "# Parametros"
      ]
    },
    {
      "cell_type": "code",
      "metadata": {
        "id": "eki_hDERjbwd",
        "colab": {
          "base_uri": "https://localhost:8080/"
        },
        "outputId": "4843e428-c893-433b-ad7a-a19c9044daa4"
      },
      "source": [
        "# passing a single parameter into a function\n",
        "\n",
        "def printNombre(nombre_completo):\n",
        "    print('Tu nombre es: {}'.format(nombre_completo))\n",
        "\n",
        "printNombre('Jose Jose')\n",
        "printNombre('Carlos Gonzalez')"
      ],
      "execution_count": 6,
      "outputs": [
        {
          "output_type": "stream",
          "text": [
            "Tu nombre es: Jose Jose\n",
            "Tu nombre es: Carlos Gonzalez\n"
          ],
          "name": "stdout"
        }
      ]
    },
    {
      "cell_type": "code",
      "metadata": {
        "id": "lY7BJ2PGiSni"
      },
      "source": [
        ""
      ],
      "execution_count": 7,
      "outputs": []
    },
    {
      "cell_type": "code",
      "metadata": {
        "id": "Ob3aisgWjbwf",
        "colab": {
          "base_uri": "https://localhost:8080/"
        },
        "outputId": "a1549124-9b9e-4845-930f-85434c058828"
      },
      "source": [
        "# pasar multiples parametros\n",
        "\n",
        "def addNums(num1, num2):\n",
        "    result = num1 + num2\n",
        "    print('{} + {} = {}'.format(num1, num2, result))\n",
        "    \n",
        "addNums(5, 8)   \n",
        "addNums(3.5, 5.5)    "
      ],
      "execution_count": 8,
      "outputs": [
        {
          "output_type": "stream",
          "text": [
            "5 + 8 = 13\n",
            "3.5 + 5.5 = 9.0\n"
          ],
          "name": "stdout"
        }
      ]
    },
    {
      "cell_type": "code",
      "metadata": {
        "id": "ozCWtct9jbwi",
        "colab": {
          "base_uri": "https://localhost:8080/"
        },
        "outputId": "2b4f515c-08fd-4572-aa51-32d9ab8574d6"
      },
      "source": [
        "# funcion para elevar al cuadrado los numeros\n",
        "\n",
        "numbers1 = [2, 4, 5, 10]\n",
        "numbers2 = [1, 3, 6]\n",
        "numbers3 = [6, 10, 25, 3, -5]\n",
        "\n",
        "def squares(nums):\n",
        "    for num in nums:\n",
        "        print(num+num)\n",
        "        \n",
        "squares(numbers3)\n"
      ],
      "execution_count": 12,
      "outputs": [
        {
          "output_type": "stream",
          "text": [
            "12\n",
            "20\n",
            "50\n",
            "6\n",
            "-10\n"
          ],
          "name": "stdout"
        }
      ]
    },
    {
      "cell_type": "code",
      "metadata": {
        "id": "n_Fh-xfFjbwk",
        "colab": {
          "base_uri": "https://localhost:8080/"
        },
        "outputId": "cdb55874-aa2c-46ae-9b53-7573d61519b5"
      },
      "source": [
        "# establecer parametros por defecto\n",
        "\n",
        "def calcArea(r, pi=3.14):\n",
        "    area = pi * (r**2)\n",
        "    print('Area: {}'.format(area))\n",
        "    \n",
        "calcArea(5)"
      ],
      "execution_count": 13,
      "outputs": [
        {
          "output_type": "stream",
          "text": [
            "Area: 78.5\n"
          ],
          "name": "stdout"
        }
      ]
    },
    {
      "cell_type": "code",
      "metadata": {
        "id": "1q3QMmNxjbwm",
        "colab": {
          "base_uri": "https://localhost:8080/"
        },
        "outputId": "44f5989a-8bcf-442d-c39a-793e2bda4ef4"
      },
      "source": [
        "# parametros por defecto\n",
        "\n",
        "def printName(first, last, middle=''):\n",
        "    if middle:\n",
        "        print('{} {} {}'.format(first, middle, last))\n",
        "    else:\n",
        "        print('{} {}'.format(first, last))\n",
        "        \n",
        "printName('Roberto', 'Martinez')\n"
      ],
      "execution_count": 14,
      "outputs": [
        {
          "output_type": "stream",
          "text": [
            "Roberto Martinez\n"
          ],
          "name": "stdout"
        }
      ]
    },
    {
      "cell_type": "code",
      "metadata": {
        "colab": {
          "base_uri": "https://localhost:8080/"
        },
        "id": "SzglNHN_lgtw",
        "outputId": "06047f75-5780-4675-cfb2-6780c0778554"
      },
      "source": [
        "printName('Roberto', 'Martinez', 'Carlos')"
      ],
      "execution_count": 15,
      "outputs": [
        {
          "output_type": "stream",
          "text": [
            "Roberto Carlos Martinez\n"
          ],
          "name": "stdout"
        }
      ]
    },
    {
      "cell_type": "code",
      "metadata": {
        "id": "JMQ6Ze12jbwp",
        "colab": {
          "base_uri": "https://localhost:8080/"
        },
        "outputId": "69d9bd83-9e14-4d7d-e8c8-b819f08efbcf"
      },
      "source": [
        "# explicitamente asignar valor\n",
        "\n",
        "def addNums(num1, num2):\n",
        "    print(num2)\n",
        "    print(num1)\n",
        "    \n",
        "addNums(5, num2 = 2.5)"
      ],
      "execution_count": 16,
      "outputs": [
        {
          "output_type": "stream",
          "text": [
            "2.5\n",
            "5\n"
          ],
          "name": "stdout"
        }
      ]
    },
    {
      "cell_type": "code",
      "metadata": {
        "scrolled": true,
        "id": "1wTY4Uwojbwr",
        "colab": {
          "base_uri": "https://localhost:8080/"
        },
        "outputId": "77bf5ad0-5dad-4877-eb17-7869dd486c7d"
      },
      "source": [
        "# parametros arbitrarios\n",
        "\n",
        "def outputData(name, *args):\n",
        "    print(type(args))\n",
        "    \n",
        "    for arg in args:\n",
        "        print(arg)\n",
        "        \n",
        "outputData(\"Roberto Martinez\", 5, True, \"Jess\", 4)"
      ],
      "execution_count": 18,
      "outputs": [
        {
          "output_type": "stream",
          "text": [
            "<class 'tuple'>\n",
            "5\n",
            "True\n",
            "Jess\n",
            "4\n"
          ],
          "name": "stdout"
        }
      ]
    },
    {
      "cell_type": "markdown",
      "metadata": {
        "id": "X_2VZ5r4jbww"
      },
      "source": [
        "# Valores de Retorno"
      ]
    },
    {
      "cell_type": "code",
      "metadata": {
        "id": "mx-cOH_fjbwx",
        "colab": {
          "base_uri": "https://localhost:8080/"
        },
        "outputId": "5e74e247-f547-47a2-ed77-17a4e7af0e49"
      },
      "source": [
        "# retonar valores\n",
        "\n",
        "def addNums(num1, num2):\n",
        "    return num1 + num2\n",
        "\n",
        "num = addNums(5.5, 4.5)     \n",
        "print(num)\n",
        "\n"
      ],
      "execution_count": 20,
      "outputs": [
        {
          "output_type": "stream",
          "text": [
            "10.0\n"
          ],
          "name": "stdout"
        }
      ]
    },
    {
      "cell_type": "code",
      "metadata": {
        "colab": {
          "base_uri": "https://localhost:8080/"
        },
        "id": "4MjZ8ojdmqRF",
        "outputId": "b6dc00fe-5552-4f07-97e6-ab4e0d71951e"
      },
      "source": [
        "print(addNums(10, 10)) "
      ],
      "execution_count": 24,
      "outputs": [
        {
          "output_type": "stream",
          "text": [
            "20\n"
          ],
          "name": "stdout"
        }
      ]
    },
    {
      "cell_type": "code",
      "metadata": {
        "id": "fE5wFiDnjbw0",
        "colab": {
          "base_uri": "https://localhost:8080/"
        },
        "outputId": "d088c72e-e0a8-44b5-c2f8-f3707f5f25d8"
      },
      "source": [
        "\n",
        "\n",
        "def searchList(aList, el):\n",
        "    return (True if el in aList else False)\n",
        "\n",
        "result = searchList(['one', 2, 'three'], 'three') \n",
        "\n",
        "print(result)"
      ],
      "execution_count": 28,
      "outputs": [
        {
          "output_type": "stream",
          "text": [
            "True\n"
          ],
          "name": "stdout"
        }
      ]
    },
    {
      "cell_type": "code",
      "metadata": {
        "colab": {
          "base_uri": "https://localhost:8080/"
        },
        "id": "IP4zGo2jnZt8",
        "outputId": "deb18ec1-e212-4a30-96f1-6482346fe504"
      },
      "source": [
        "a = {1, 2, 3}\n",
        "2 in a"
      ],
      "execution_count": 25,
      "outputs": [
        {
          "output_type": "execute_result",
          "data": {
            "text/plain": [
              "True"
            ]
          },
          "metadata": {
            "tags": []
          },
          "execution_count": 25
        }
      ]
    },
    {
      "cell_type": "markdown",
      "metadata": {
        "id": "VJSvu55ojbw9"
      },
      "source": [
        "# Crear un carrito de compras"
      ]
    },
    {
      "cell_type": "code",
      "metadata": {
        "id": "Nr1W_Bmcjbw9",
        "colab": {
          "base_uri": "https://localhost:8080/"
        },
        "outputId": "58fa75f6-08f7-418a-83e1-125deb651a4e"
      },
      "source": [
        "# importar funciones\n",
        "from IPython.display import clear_output\n",
        "\n",
        "# lista Global\n",
        "cart = []\n",
        "\n",
        "# Crear una funcion para agregar\n",
        "def addItem(item):\n",
        "    clear_output()\n",
        "    cart.append(item)\n",
        "    print('{} ha sido agregado.'.format(item))\n",
        "\n",
        "# Crear funcion para eliminar del carrito\n",
        "def removeItem(item):\n",
        "    clear_output()\n",
        "    try:\n",
        "        cart.remove(item)\n",
        "        print('{} ha sido eliminado.'.format(item))\n",
        "    except:\n",
        "        print('No hay elementos para eliminar.')\n",
        "        \n",
        "# Crear una funcion para mostrar los elementos\n",
        "def showCart():\n",
        "    clear_output()\n",
        "    if cart:\n",
        "        print('Aquí su carrito:')\n",
        "        for item in cart:\n",
        "            print('- {}'.format(item))\n",
        "    else:\n",
        "        print('Su carrito esta vacio.')\n",
        "\n",
        "# Crear funcion para limpiar los elementos del carrito\n",
        "def clearCart():\n",
        "    clear_output()\n",
        "    cart.clear()\n",
        "    print('Su carrito esta vacio.')\n",
        "\n",
        "# crear loop\n",
        "def main():\n",
        "    done = False\n",
        "    \n",
        "    while not done:\n",
        "        ans = input('salir/agregar/remover/mostrar/limpiar: ').lower()\n",
        "        \n",
        "        # base case\n",
        "        if ans == 'salir':\n",
        "            print('Gracias por usar el programa.')\n",
        "            showCart()\n",
        "            done = True\n",
        "        elif ans == 'agregar':\n",
        "            item = input('Que desea agregar? ').title()\n",
        "            addItem(item)\n",
        "        elif ans == 'remover':\n",
        "            showCart()\n",
        "            item = input('Que elemento desea remover? ').title()\n",
        "            removeItem(item)\n",
        "        elif ans == 'mostrar':\n",
        "            showCart()\n",
        "        elif ans == 'limpiar':\n",
        "            clearCart()\n",
        "        else:\n",
        "            print('Esa no es una opcion.')\n",
        "\n",
        "main()       # Ejecutar el programa"
      ],
      "execution_count": 29,
      "outputs": [
        {
          "output_type": "stream",
          "text": [
            "Aquí su carrito:\n",
            "- Agua\n",
            "- Mantequilla\n",
            "- Soda\n"
          ],
          "name": "stdout"
        }
      ]
    },
    {
      "cell_type": "markdown",
      "metadata": {
        "id": "cYgS-5uCjbxC"
      },
      "source": [
        "# Tarea"
      ]
    },
    {
      "cell_type": "markdown",
      "metadata": {
        "id": "3_YHCpcnjbxC"
      },
      "source": [
        "<p>\n",
        "1. <b>Imprimir Nombre:</b> Crear una funcion mi_nombre que imprima su nombre.\n",
        "</p>"
      ]
    },
    {
      "cell_type": "code",
      "metadata": {
        "id": "ZuCK7uW0jbxD",
        "colab": {
          "base_uri": "https://localhost:8080/",
          "height": 34
        },
        "outputId": "c14fc659-6b9b-4886-8f89-72957e314622"
      },
      "source": [
        "def mi_nombre():\n",
        "  #su codigo \"\"\n",
        "  return\n",
        "\n",
        "print()"
      ],
      "execution_count": null,
      "outputs": [
        {
          "output_type": "stream",
          "text": [
            "\n"
          ],
          "name": "stdout"
        }
      ]
    },
    {
      "cell_type": "markdown",
      "metadata": {
        "id": "9c_abn4-qCUb"
      },
      "source": [
        "<p>\n",
        "2. <b>Modificar Carrito de Compra:</b> Modificar el carrito de compras para que tenga una funcionalidad \"cantidad\" que muestre la cantidad de elementos que hay en el carrito\n",
        "</p>"
      ]
    }
  ]
}
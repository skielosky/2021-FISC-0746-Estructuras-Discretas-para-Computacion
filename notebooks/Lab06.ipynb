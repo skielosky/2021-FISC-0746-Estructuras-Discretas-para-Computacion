{
  "nbformat": 4,
  "nbformat_minor": 0,
  "metadata": {
    "kernelspec": {
      "display_name": "Python 3",
      "language": "python",
      "name": "python3"
    },
    "language_info": {
      "codemirror_mode": {
        "name": "ipython",
        "version": 3
      },
      "file_extension": ".py",
      "mimetype": "text/x-python",
      "name": "python",
      "nbconvert_exporter": "python",
      "pygments_lexer": "ipython3",
      "version": "3.6.5"
    },
    "colab": {
      "name": "Lab06.ipynb",
      "provenance": []
    }
  },
  "cells": [
    {
      "cell_type": "markdown",
      "metadata": {
        "id": "9ir7c3cnQfiN"
      },
      "source": [
        "![alt text](http://www.fisc.utp.ac.pa/sites/all/themes/custom/sub_facultad/tropical_fisc/logo.png)\n",
        "\n",
        "# Universidad Tecnológica de Panamá\n",
        "### Facultad de Ingeniería de Sistemas Computacionales\n",
        "### Departamento de Computación y Simulación de Sistemas\n",
        "### Estructuras Discretas para la Computación\n",
        "#### Prof. Ezequiel Aguilar González\n",
        "\n",
        "\n",
        "## Taller 06"
      ]
    },
    {
      "cell_type": "markdown",
      "metadata": {
        "id": "wO00Newac2Ib"
      },
      "source": [
        "# Diccionarios"
      ]
    },
    {
      "cell_type": "code",
      "metadata": {
        "id": "5HwctKOEc2Ic",
        "colab": {
          "base_uri": "https://localhost:8080/",
          "height": 34
        },
        "outputId": "82e8e735-71c5-4e5f-d862-c53c88111871"
      },
      "source": [
        "# como se declara un diccionario\n",
        "\n",
        "vacio = {}  \n",
        "\n",
        "personas = { 'nombre' : 'Juan Gonzalez' }    # diccionario con par de key/values\n",
        "\n",
        "cliente = {\n",
        "    'nombre' : 'Alicia',\n",
        "    'edad' : 26\n",
        "}                    # diccionario con dos pares de key/values\n",
        "\n",
        "print(cliente)"
      ],
      "execution_count": null,
      "outputs": [
        {
          "output_type": "stream",
          "text": [
            "{'nombre': 'Alicia', 'edad': 26}\n"
          ],
          "name": "stdout"
        }
      ]
    },
    {
      "cell_type": "code",
      "metadata": {
        "id": "1FvGzT7nc2If",
        "colab": {
          "base_uri": "https://localhost:8080/",
          "height": 34
        },
        "outputId": "f81f5e5d-abbb-49bf-b6ce-1f8205f49aea"
      },
      "source": [
        "# accediendo informacion de diccionarios con llaves\n",
        "\n",
        "persona = { 'nombre' : 'Alicia' }\n",
        "\n",
        "print( persona['nombre'] )       "
      ],
      "execution_count": null,
      "outputs": [
        {
          "output_type": "stream",
          "text": [
            "Alicia\n"
          ],
          "name": "stdout"
        }
      ]
    },
    {
      "cell_type": "code",
      "metadata": {
        "id": "KSeLPocQc2Ii",
        "colab": {
          "base_uri": "https://localhost:8080/",
          "height": 50
        },
        "outputId": "6d42abfa-34a5-41be-eb7d-8cad2f8d2b04"
      },
      "source": [
        "# metodo get para acceder a la información\n",
        "\n",
        "persona = { 'nombre' : 'Ezequiel' }\n",
        "\n",
        "print( persona.get('nombre') )\n",
        "\n",
        "print( persona.get('edad', 'edad no es una llave.') )    "
      ],
      "execution_count": null,
      "outputs": [
        {
          "output_type": "stream",
          "text": [
            "Ezequiel\n",
            "edad no es una llave.\n"
          ],
          "name": "stdout"
        }
      ]
    },
    {
      "cell_type": "code",
      "metadata": {
        "id": "doobvUdmc2Il",
        "colab": {
          "base_uri": "https://localhost:8080/",
          "height": 34
        },
        "outputId": "65b3fe30-c011-40a4-ebaf-fa889392d7c2"
      },
      "source": [
        "# almacenar listas en los diccionarios\n",
        "\n",
        "datos = { 'deportes' : ['futbol', 'beisbol', 'cricket', 'ajedrez'] }\n",
        "\n",
        "print( datos['deportes'][0] )     "
      ],
      "execution_count": null,
      "outputs": [
        {
          "output_type": "stream",
          "text": [
            "futbol\n"
          ],
          "name": "stdout"
        }
      ]
    },
    {
      "cell_type": "code",
      "metadata": {
        "id": "-l1X0uvUc2Ir",
        "colab": {
          "base_uri": "https://localhost:8080/",
          "height": 50
        },
        "outputId": "bd01e1a9-28a0-4bec-9385-1cebf99263b4"
      },
      "source": [
        "# acceder diccionario\n",
        "\n",
        "datos = ['carlos', 'roberto', {'nombre' : 'kristel'}]\n",
        "\n",
        "print( datos[2] )   \n",
        "\n",
        "print( datos[2]['nombre'] ) "
      ],
      "execution_count": null,
      "outputs": [
        {
          "output_type": "stream",
          "text": [
            "{'nombre': 'kristel'}\n",
            "kristel\n"
          ],
          "name": "stdout"
        }
      ]
    },
    {
      "cell_type": "code",
      "metadata": {
        "id": "HLCBvsWec2Iu",
        "colab": {
          "base_uri": "https://localhost:8080/",
          "height": 50
        },
        "outputId": "52c71fc9-25f2-4cd4-efa0-1d06e8cff36b"
      },
      "source": [
        "# diccionario dentro de otro diccionario\n",
        "\n",
        "datos = {\n",
        "    'equipo' : 'Texas Rangers',\n",
        "    'ganados' : { '2018' : 108, '2017' : 93 }\n",
        "}\n",
        "\n",
        "print( datos['ganados'] )\n",
        "\n",
        "print( datos['ganados']['2018'] )    # first access the wins key, then the next key"
      ],
      "execution_count": null,
      "outputs": [
        {
          "output_type": "stream",
          "text": [
            "{'2018': 108, '2017': 93}\n",
            "108\n"
          ],
          "name": "stdout"
        }
      ]
    },
    {
      "cell_type": "markdown",
      "metadata": {
        "id": "4pVurJ-mc2Iy"
      },
      "source": [
        "# diccionarios otras carateristicas"
      ]
    },
    {
      "cell_type": "code",
      "metadata": {
        "id": "xL1D2WeSc2Iy",
        "colab": {
          "base_uri": "https://localhost:8080/",
          "height": 34
        },
        "outputId": "dfa7cc5d-0946-4b9b-e89c-9915ac6054b4"
      },
      "source": [
        "# agregando otro par de key/values\n",
        "\n",
        "auto = { 'anyo' : 2018 }\n",
        "\n",
        "auto['color'] = 'Azul'\n",
        "\n",
        "print(\"Año: {}\\tColor: {}\".format(auto['anyo'], auto['color']))"
      ],
      "execution_count": null,
      "outputs": [
        {
          "output_type": "stream",
          "text": [
            "Año: 2018\tColor: Azul\n"
          ],
          "name": "stdout"
        }
      ]
    },
    {
      "cell_type": "code",
      "metadata": {
        "id": "atdI9Nl6c2I1",
        "colab": {
          "base_uri": "https://localhost:8080/",
          "height": 34
        },
        "outputId": "96539869-0cb8-4d30-9f6e-92560b41e16a"
      },
      "source": [
        "#actualizar valores\n",
        "\n",
        "auto = { 'anyo' : 2018, 'color' : 'Azul' }\n",
        "\n",
        "auto['color'] = 'Rojo'\n",
        "\n",
        "print(\"Año: {}\\tColor: {}\".format(auto['anyo'], auto['color']))"
      ],
      "execution_count": null,
      "outputs": [
        {
          "output_type": "stream",
          "text": [
            "Año: 2018\tColor: Rojo\n"
          ],
          "name": "stdout"
        }
      ]
    },
    {
      "cell_type": "code",
      "metadata": {
        "id": "YGAat1LVc2I3",
        "colab": {
          "base_uri": "https://localhost:8080/",
          "height": 34
        },
        "outputId": "926dc8af-ee65-4f47-bfd7-363ab54bbb94"
      },
      "source": [
        "# borrar key/value\n",
        "\n",
        "auto = { 'anyo' : 2018 }\n",
        "\n",
        "try:\n",
        "    del auto['anyo']\n",
        "    print(auto)\n",
        "except:\n",
        "    print('La llave no existe')"
      ],
      "execution_count": null,
      "outputs": [
        {
          "output_type": "stream",
          "text": [
            "{}\n"
          ],
          "name": "stdout"
        }
      ]
    },
    {
      "cell_type": "code",
      "metadata": {
        "id": "mx49ur5kc2I5",
        "colab": {
          "base_uri": "https://localhost:8080/",
          "height": 84
        },
        "outputId": "5ee44f71-4465-4827-9c13-cca08a84a769"
      },
      "source": [
        "# loops en diccionario\n",
        "\n",
        "persona = { 'nombre' : 'alicia', 'edad' : 26 }\n",
        "\n",
        "for key in persona.keys():\n",
        "    print(key)\n",
        "    print(persona[key]) "
      ],
      "execution_count": null,
      "outputs": [
        {
          "output_type": "stream",
          "text": [
            "nombre\n",
            "alicia\n",
            "edad\n",
            "26\n"
          ],
          "name": "stdout"
        }
      ]
    },
    {
      "cell_type": "code",
      "metadata": {
        "id": "rcBLB33hc2I8",
        "colab": {
          "base_uri": "https://localhost:8080/",
          "height": 50
        },
        "outputId": "7746bf72-95a0-458b-d1f9-ffb238e552ba"
      },
      "source": [
        "# loop\n",
        "\n",
        "persona = { 'nombre' : 'Alicia', 'age' : 26 }\n",
        "\n",
        "for value in persona.values():\n",
        "    print(value)"
      ],
      "execution_count": null,
      "outputs": [
        {
          "output_type": "stream",
          "text": [
            "Alicia\n",
            "26\n"
          ],
          "name": "stdout"
        }
      ]
    },
    {
      "cell_type": "code",
      "metadata": {
        "id": "SqvRtby_c2I_",
        "colab": {
          "base_uri": "https://localhost:8080/",
          "height": 50
        },
        "outputId": "5da61723-546c-4e97-f349-4a5d8611a7ff"
      },
      "source": [
        "\n",
        "\n",
        "persona = { 'nombre' : 'alicia', 'edad' : 26 }\n",
        "\n",
        "for key, value in persona.items():\n",
        "    print(\"{}:\\t{}\".format(key, value))"
      ],
      "execution_count": null,
      "outputs": [
        {
          "output_type": "stream",
          "text": [
            "nombre:\talicia\n",
            "edad:\t26\n"
          ],
          "name": "stdout"
        }
      ]
    },
    {
      "cell_type": "markdown",
      "metadata": {
        "collapsed": true,
        "id": "ycDViR9jc2JK"
      },
      "source": [
        "# Lectura y escritura de archivos\n"
      ]
    },
    {
      "cell_type": "code",
      "metadata": {
        "id": "QbFJiEFhc2JK",
        "colab": {
          "base_uri": "https://localhost:8080/",
          "height": 34
        },
        "outputId": "9e9dbc3b-3db8-4d8f-9eae-cc1694aed77d"
      },
      "source": [
        "# opening/creating and writing to a text file\n",
        "# abrir/crear y escribir a un archivo de texto\n",
        "\n",
        "f = open(\"prueba.txt\", 'w+')     # abrir archivo en modo de escritura y lectura\n",
        "\n",
        "f.write('Esto es Esp... una prueba')\n",
        "\n",
        "f.close()\n",
        "\n",
        "# leer desde un archivo de texto\n",
        "f = open('prueba.txt', 'r')\n",
        "\n",
        "datos = f.read()\n",
        "\n",
        "f.close()\n",
        "\n",
        "print(datos)"
      ],
      "execution_count": null,
      "outputs": [
        {
          "output_type": "stream",
          "text": [
            "Esto es Esp... una prueba\n"
          ],
          "name": "stdout"
        }
      ]
    },
    {
      "cell_type": "code",
      "metadata": {
        "id": "zOAcqJA7c2JN"
      },
      "source": [
        "# abrir/crear archivo CSV\n",
        "import csv\n",
        "\n",
        "with open('prueba.csv', mode='w', newline='') as f:\n",
        "    writer = csv.writer(f, delimiter=',')\n",
        "    writer.writerow(['Nombre', 'Ciudad'])\n",
        "    writer.writerow(['Jenny Castro', 'Panama'])"
      ],
      "execution_count": null,
      "outputs": []
    },
    {
      "cell_type": "code",
      "metadata": {
        "id": "IGg_GrnSc2JQ",
        "colab": {
          "base_uri": "https://localhost:8080/",
          "height": 50
        },
        "outputId": "5ceb23c1-8ba4-4f03-de43-3d2118c3f930"
      },
      "source": [
        "# leer desde CSV\n",
        "\n",
        "with open('prueba.csv', mode='r') as f:\n",
        "    reader = csv.reader(f, delimiter=',')\n",
        "    \n",
        "    for row in reader:\n",
        "        print(row)"
      ],
      "execution_count": null,
      "outputs": [
        {
          "output_type": "stream",
          "text": [
            "['Nombre', 'Ciudad']\n",
            "['Jenny Castro', 'Panama']\n"
          ],
          "name": "stdout"
        }
      ]
    },
    {
      "cell_type": "markdown",
      "metadata": {
        "id": "wgNP-3nUrVF2"
      },
      "source": [
        "\n",
        "\n",
        "Crear un diccionario llamado Pizza y con una lista de ingredientes"
      ]
    },
    {
      "cell_type": "markdown",
      "metadata": {
        "collapsed": true,
        "id": "Xgmkr5odc2JS"
      },
      "source": [
        "\n",
        "# Crear un usuario de base de datos con Archivos CSV"
      ]
    },
    {
      "cell_type": "code",
      "metadata": {
        "id": "xKUI01hGc2JT",
        "colab": {
          "base_uri": "https://localhost:8080/",
          "height": 34
        },
        "outputId": "34235ad1-c7b2-47e0-909e-9a793b273e5b"
      },
      "source": [
        "# paquetes utilizados\n",
        "import csv\n",
        "from IPython.display import clear_output\n",
        "\n",
        "# registro de usuarios\n",
        "def registerUser():\n",
        "    with open('usuarios.csv', mode='a', newline='') as f:\n",
        "        writer = csv.writer(f, delimiter=',')\n",
        "        \n",
        "        print('Para Registrarse, Ingrese la siguiente información:')\n",
        "        email = input('E-mail: ')\n",
        "        password = input('Password: ')\n",
        "        password2 = input('Reescriba password: ')\n",
        "\n",
        "        clear_output()\n",
        "        \n",
        "        if password == password2:\n",
        "            writer.writerow([email, password])\n",
        "            print('Ahora estas registrado!')\n",
        "        else:\n",
        "            print('Algo va mal. Intenta de nuevo.')\n",
        "            \n",
        "\n",
        "# preguntar por informacion al usuairo y regresa True para login\n",
        "def loginUser():\n",
        "    print('Para acceder, ingresar información:')\n",
        "    email = input('E-mail: ')\n",
        "    password = input('Password: ')\n",
        "    \n",
        "    clear_output()\n",
        "    \n",
        "    with open('usuarios.csv', mode='r') as f:\n",
        "        reader = csv.reader(f, delimiter=',')\n",
        "        \n",
        "        for row in reader:\n",
        "            if row == [email, password]:\n",
        "                print('Estas logeado!')\n",
        "                return True\n",
        "    \n",
        "    print('Algo va mal. Intenta de nuevo..')\n",
        "    return False\n",
        "            \n",
        "# main loop\n",
        "active = True\n",
        "logged_in = False\n",
        "\n",
        "# main loop\n",
        "while active:\n",
        "    if logged_in:\n",
        "        print('1. Logout\\n2. Salir')\n",
        "    else:\n",
        "        print('1. Login\\n2. Registro\\n3. Salir')\n",
        "    \n",
        "    choice = input('Que desea hacer? ').lower()\n",
        "    \n",
        "    clear_output()\n",
        "    \n",
        "    if choice == 'registro' and logged_in == False:\n",
        "        registerUser()\n",
        "    elif choice == 'login' and logged_in == False:\n",
        "        logged_in = loginUser()\n",
        "    elif choice == 'salir':\n",
        "        active = False\n",
        "        print('Gracias por utilizar nuestro software!')\n",
        "    elif choice == 'logout' and logged_in == True:\n",
        "        logged_in = False\n",
        "        print('Haz salido.')\n",
        "    else:\n",
        "        print('Lo siento, intente de nuevo!')"
      ],
      "execution_count": null,
      "outputs": [
        {
          "output_type": "stream",
          "text": [
            "Gracias por utilizar nuestro software!\n"
          ],
          "name": "stdout"
        }
      ]
    },
    {
      "cell_type": "code",
      "metadata": {
        "id": "btXadsNwc2Jf"
      },
      "source": [
        "# the name key and John Smith value should be separated by a colon, not comma"
      ],
      "execution_count": null,
      "outputs": []
    },
    {
      "cell_type": "markdown",
      "metadata": {
        "id": "hPBL4ee-c2Jt"
      },
      "source": [
        "# Tarea\n",
        "\n",
        "\n",
        "\n"
      ]
    },
    {
      "cell_type": "markdown",
      "metadata": {
        "id": "KK8bKC5Rc2Ju"
      },
      "source": [
        "\n",
        "\n",
        "<p>\n",
        "1. <b>Cambiar password:</b> Agregar una funcion llamada \"cambiarPassword\" en el proyecto para que el usuario una vez logueado cambie su password.\n",
        "</p>"
      ]
    }
  ]
}
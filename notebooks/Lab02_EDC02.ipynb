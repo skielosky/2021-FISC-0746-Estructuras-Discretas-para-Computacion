{
  "nbformat": 4,
  "nbformat_minor": 0,
  "metadata": {
    "colab": {
      "name": "Lab02-EDC02.ipynb",
      "provenance": [],
      "collapsed_sections": []
    },
    "kernelspec": {
      "name": "python3",
      "display_name": "Python 3"
    },
    "language_info": {
      "name": "python"
    }
  },
  "cells": [
    {
      "cell_type": "markdown",
      "metadata": {
        "id": "EwSv4krFAuNs"
      },
      "source": [
        "## Lab 02 - EDC02"
      ]
    },
    {
      "cell_type": "markdown",
      "metadata": {
        "id": "W_L92FoLBtyh"
      },
      "source": [
        "### Obtener datos de entrada"
      ]
    },
    {
      "cell_type": "code",
      "metadata": {
        "colab": {
          "base_uri": "https://localhost:8080/"
        },
        "id": "Jud5ObnFApAU",
        "outputId": "13a5b27e-9a5a-43ef-81e7-029e55eb13b0"
      },
      "source": [
        "nombre = input(\"¿Cuál es su nombre? \")\n",
        "print(nombre)"
      ],
      "execution_count": 3,
      "outputs": [
        {
          "output_type": "stream",
          "text": [
            "¿Cuál es su nombre? Eze\n",
            "Eze\n"
          ],
          "name": "stdout"
        }
      ]
    },
    {
      "cell_type": "markdown",
      "metadata": {
        "id": "HKXfCNXtC3ei"
      },
      "source": [
        "## Función input siempre regresa un string\n"
      ]
    },
    {
      "cell_type": "code",
      "metadata": {
        "colab": {
          "base_uri": "https://localhost:8080/"
        },
        "id": "TbZ8P7uQCI-R",
        "outputId": "3a274402-f919-4934-caa9-5e0396b90a5d"
      },
      "source": [
        "value1 = input('Enter first number: ')"
      ],
      "execution_count": 4,
      "outputs": [
        {
          "output_type": "stream",
          "text": [
            "Enter first number: 5\n"
          ],
          "name": "stdout"
        }
      ]
    },
    {
      "cell_type": "code",
      "metadata": {
        "colab": {
          "base_uri": "https://localhost:8080/"
        },
        "id": "t-0aeTk4CUVo",
        "outputId": "e44a28f8-9f7b-4e76-8a73-9cf119ed4a24"
      },
      "source": [
        "\n",
        "value2 = input('Enter second number: ')"
      ],
      "execution_count": 5,
      "outputs": [
        {
          "output_type": "stream",
          "text": [
            "Enter second number: 11\n"
          ],
          "name": "stdout"
        }
      ]
    },
    {
      "cell_type": "code",
      "metadata": {
        "colab": {
          "base_uri": "https://localhost:8080/",
          "height": 36
        },
        "id": "V6l6xh5gDiyR",
        "outputId": "4552088c-7b1e-4b0d-f4b6-5c12373108fd"
      },
      "source": [
        "value1 + value2"
      ],
      "execution_count": 6,
      "outputs": [
        {
          "output_type": "execute_result",
          "data": {
            "application/vnd.google.colaboratory.intrinsic+json": {
              "type": "string"
            },
            "text/plain": [
              "'511'"
            ]
          },
          "metadata": {
            "tags": []
          },
          "execution_count": 6
        }
      ]
    },
    {
      "cell_type": "markdown",
      "metadata": {
        "id": "vGvX-wV_DwSB"
      },
      "source": [
        "## obtener un número entero del usuario"
      ]
    },
    {
      "cell_type": "code",
      "metadata": {
        "colab": {
          "base_uri": "https://localhost:8080/"
        },
        "id": "inmxSoCrDn8w",
        "outputId": "5192a934-f081-4a18-b800-ea7990ecc9c6"
      },
      "source": [
        "value = input('Enter an integer: ')"
      ],
      "execution_count": 7,
      "outputs": [
        {
          "output_type": "stream",
          "text": [
            "Enter an integer: 50\n"
          ],
          "name": "stdout"
        }
      ]
    },
    {
      "cell_type": "code",
      "metadata": {
        "id": "LvUPpSOkD4FQ"
      },
      "source": [
        "value = int(value)"
      ],
      "execution_count": 8,
      "outputs": []
    },
    {
      "cell_type": "code",
      "metadata": {
        "colab": {
          "base_uri": "https://localhost:8080/"
        },
        "id": "OQvkTL1xD5Mo",
        "outputId": "aff2ae1b-2006-45d2-fb15-2747205066aa"
      },
      "source": [
        "value"
      ],
      "execution_count": 9,
      "outputs": [
        {
          "output_type": "execute_result",
          "data": {
            "text/plain": [
              "50"
            ]
          },
          "metadata": {
            "tags": []
          },
          "execution_count": 9
        }
      ]
    },
    {
      "cell_type": "code",
      "metadata": {
        "colab": {
          "base_uri": "https://localhost:8080/"
        },
        "id": "WV0XtnlSD6wQ",
        "outputId": "8f4d536e-c7dd-43a1-ca74-28be5e9fe4f2"
      },
      "source": [
        "another_value = int(input('Enter another integer: '))"
      ],
      "execution_count": 11,
      "outputs": [
        {
          "output_type": "stream",
          "text": [
            "Enter another integer: 100\n"
          ],
          "name": "stdout"
        }
      ]
    },
    {
      "cell_type": "code",
      "metadata": {
        "colab": {
          "base_uri": "https://localhost:8080/"
        },
        "id": "XA8TGAv4D8tQ",
        "outputId": "f92ad4b9-d996-4a9f-9a5d-92b125407050"
      },
      "source": [
        "another_value"
      ],
      "execution_count": 12,
      "outputs": [
        {
          "output_type": "execute_result",
          "data": {
            "text/plain": [
              "100"
            ]
          },
          "metadata": {
            "tags": []
          },
          "execution_count": 12
        }
      ]
    },
    {
      "cell_type": "code",
      "metadata": {
        "colab": {
          "base_uri": "https://localhost:8080/"
        },
        "id": "_X50WeZYD-Lx",
        "outputId": "b71b59e2-ec92-43fc-ea29-5c0993b70c9a"
      },
      "source": [
        "value + another_value"
      ],
      "execution_count": 13,
      "outputs": [
        {
          "output_type": "execute_result",
          "data": {
            "text/plain": [
              "150"
            ]
          },
          "metadata": {
            "tags": []
          },
          "execution_count": 13
        }
      ]
    },
    {
      "cell_type": "code",
      "metadata": {
        "colab": {
          "base_uri": "https://localhost:8080/"
        },
        "id": "bkbB22PGD_eX",
        "outputId": "80faca95-f5a5-417b-b5ac-45359ae768c2"
      },
      "source": [
        "\n",
        "bad_value = int(input('Enter another integer: '))"
      ],
      "execution_count": 18,
      "outputs": [
        {
          "output_type": "stream",
          "text": [
            "Enter another integer: 30\n"
          ],
          "name": "stdout"
        }
      ]
    },
    {
      "cell_type": "code",
      "metadata": {
        "colab": {
          "base_uri": "https://localhost:8080/"
        },
        "id": "nkOQcqMoEPnA",
        "outputId": "2b2ab226-cd86-4639-c14b-104fa0ca8a36"
      },
      "source": [
        "bad_value"
      ],
      "execution_count": 19,
      "outputs": [
        {
          "output_type": "execute_result",
          "data": {
            "text/plain": [
              "30"
            ]
          },
          "metadata": {
            "tags": []
          },
          "execution_count": 19
        }
      ]
    },
    {
      "cell_type": "code",
      "metadata": {
        "colab": {
          "base_uri": "https://localhost:8080/"
        },
        "id": "qIHXiZozEqFx",
        "outputId": "1cfcfb2b-a78c-4c65-bf00-af6935da5d7a"
      },
      "source": [
        "7 > 4"
      ],
      "execution_count": 22,
      "outputs": [
        {
          "output_type": "execute_result",
          "data": {
            "text/plain": [
              "True"
            ]
          },
          "metadata": {
            "tags": []
          },
          "execution_count": 22
        }
      ]
    },
    {
      "cell_type": "code",
      "metadata": {
        "colab": {
          "base_uri": "https://localhost:8080/"
        },
        "id": "mR-m7cZZExBR",
        "outputId": "b9fc08d6-db98-4a17-ead2-98cebb351e1c"
      },
      "source": [
        "7 < 4\n"
      ],
      "execution_count": 23,
      "outputs": [
        {
          "output_type": "execute_result",
          "data": {
            "text/plain": [
              "False"
            ]
          },
          "metadata": {
            "tags": []
          },
          "execution_count": 23
        }
      ]
    },
    {
      "cell_type": "code",
      "metadata": {
        "colab": {
          "base_uri": "https://localhost:8080/"
        },
        "id": "MxfRzerXEzI3",
        "outputId": "935e7d75-e079-42cf-8fd1-ace85785c845"
      },
      "source": [
        "\n",
        "7 >= 4"
      ],
      "execution_count": 24,
      "outputs": [
        {
          "output_type": "execute_result",
          "data": {
            "text/plain": [
              "True"
            ]
          },
          "metadata": {
            "tags": []
          },
          "execution_count": 24
        }
      ]
    },
    {
      "cell_type": "markdown",
      "metadata": {
        "id": "iD1G2pxmFPZn"
      },
      "source": [
        "## Cambie los valores para x"
      ]
    },
    {
      "cell_type": "code",
      "metadata": {
        "colab": {
          "base_uri": "https://localhost:8080/"
        },
        "id": "cDwVMWnkFW33",
        "outputId": "ff7b9515-9f32-43d4-c03a-01427dc855ce"
      },
      "source": [
        "x = 3\n",
        "\n",
        "1 <= x <= 5"
      ],
      "execution_count": 26,
      "outputs": [
        {
          "output_type": "execute_result",
          "data": {
            "text/plain": [
              "True"
            ]
          },
          "metadata": {
            "tags": []
          },
          "execution_count": 26
        }
      ]
    },
    {
      "cell_type": "code",
      "metadata": {
        "colab": {
          "base_uri": "https://localhost:8080/"
        },
        "id": "JABCqaoaFTLn",
        "outputId": "24a837ee-477c-49b1-fa0c-7a2ddc2273d8"
      },
      "source": [
        "\n",
        "\n",
        "x = 10\n",
        "\n",
        "1 <= x <= 5"
      ],
      "execution_count": 27,
      "outputs": [
        {
          "output_type": "execute_result",
          "data": {
            "text/plain": [
              "False"
            ]
          },
          "metadata": {
            "tags": []
          },
          "execution_count": 27
        }
      ]
    },
    {
      "cell_type": "markdown",
      "metadata": {
        "id": "JnS6PJklFldR"
      },
      "source": [
        "## Funcion type"
      ]
    },
    {
      "cell_type": "code",
      "metadata": {
        "id": "4rOPjaCTFp5f"
      },
      "source": [
        "type(7)"
      ],
      "execution_count": null,
      "outputs": []
    },
    {
      "cell_type": "code",
      "metadata": {
        "id": "BN8m7PDyFruX"
      },
      "source": [
        "type(4.1)"
      ],
      "execution_count": null,
      "outputs": []
    },
    {
      "cell_type": "code",
      "metadata": {
        "id": "RR4V-W4xFtsP"
      },
      "source": [
        "\n",
        "type('dog')"
      ],
      "execution_count": null,
      "outputs": []
    },
    {
      "cell_type": "code",
      "metadata": {
        "colab": {
          "base_uri": "https://localhost:8080/"
        },
        "id": "RBA4AufmFutC",
        "outputId": "3bc7fe46-d03e-45ac-ceaf-b060e782f3ed"
      },
      "source": [
        "x = 7\n",
        "\n",
        "x + 10\n",
        "\n",
        "x"
      ],
      "execution_count": 28,
      "outputs": [
        {
          "output_type": "execute_result",
          "data": {
            "text/plain": [
              "7"
            ]
          },
          "metadata": {
            "tags": []
          },
          "execution_count": 28
        }
      ]
    },
    {
      "cell_type": "code",
      "metadata": {
        "colab": {
          "base_uri": "https://localhost:8080/"
        },
        "id": "FsKQ7PqyF9SY",
        "outputId": "a965e58f-4948-4fed-ed0a-d65de216ccdc"
      },
      "source": [
        "x = x + 10\n",
        "\n",
        "x"
      ],
      "execution_count": 29,
      "outputs": [
        {
          "output_type": "execute_result",
          "data": {
            "text/plain": [
              "17"
            ]
          },
          "metadata": {
            "tags": []
          },
          "execution_count": 29
        }
      ]
    },
    {
      "cell_type": "markdown",
      "metadata": {
        "id": "bPCKflNrGEDq"
      },
      "source": [
        "## Tipos variantes"
      ]
    },
    {
      "cell_type": "code",
      "metadata": {
        "colab": {
          "base_uri": "https://localhost:8080/"
        },
        "id": "vCUcoXKQF-kP",
        "outputId": "70904833-0bdf-4156-d007-e26b811c93e9"
      },
      "source": [
        "type(x)\n",
        "\n",
        "x = 4.1\n",
        "\n",
        "type(x)\n"
      ],
      "execution_count": 30,
      "outputs": [
        {
          "output_type": "execute_result",
          "data": {
            "text/plain": [
              "float"
            ]
          },
          "metadata": {
            "tags": []
          },
          "execution_count": 30
        }
      ]
    },
    {
      "cell_type": "code",
      "metadata": {
        "colab": {
          "base_uri": "https://localhost:8080/"
        },
        "id": "M_6DN_SeGLDG",
        "outputId": "b72415cc-e571-4150-ac09-1a4efc78a01e"
      },
      "source": [
        "\n",
        "x = 'dog'\n",
        "\n",
        "type(x)"
      ],
      "execution_count": 31,
      "outputs": [
        {
          "output_type": "execute_result",
          "data": {
            "text/plain": [
              "str"
            ]
          },
          "metadata": {
            "tags": []
          },
          "execution_count": 31
        }
      ]
    },
    {
      "cell_type": "markdown",
      "metadata": {
        "id": "jFevW0gJGlFw"
      },
      "source": [
        "## Funciones min y max"
      ]
    },
    {
      "cell_type": "code",
      "metadata": {
        "colab": {
          "base_uri": "https://localhost:8080/"
        },
        "id": "zJHPYieCGOAf",
        "outputId": "99fb28e1-c1c8-4004-a9c1-56d7c874e634"
      },
      "source": [
        "min(36, 27, 12)\n"
      ],
      "execution_count": 33,
      "outputs": [
        {
          "output_type": "execute_result",
          "data": {
            "text/plain": [
              "12"
            ]
          },
          "metadata": {
            "tags": []
          },
          "execution_count": 33
        }
      ]
    },
    {
      "cell_type": "code",
      "metadata": {
        "colab": {
          "base_uri": "https://localhost:8080/"
        },
        "id": "yre0x1RIGiIW",
        "outputId": "3b6ad0cb-8624-4085-aab2-ff44389431aa"
      },
      "source": [
        "max(36, 27, 12)"
      ],
      "execution_count": 34,
      "outputs": [
        {
          "output_type": "execute_result",
          "data": {
            "text/plain": [
              "36"
            ]
          },
          "metadata": {
            "tags": []
          },
          "execution_count": 34
        }
      ]
    },
    {
      "cell_type": "markdown",
      "metadata": {
        "id": "Sfk9mZMHG7Yx"
      },
      "source": [
        "## if statement\n"
      ]
    },
    {
      "cell_type": "code",
      "metadata": {
        "colab": {
          "base_uri": "https://localhost:8080/"
        },
        "id": "eaJ6y3A2GpNf",
        "outputId": "a5d481b9-8c19-44f4-83ad-0f3dbcda3523"
      },
      "source": [
        "grade = 85\n",
        "\n",
        "if grade >= 60:\n",
        "    print('Passed')"
      ],
      "execution_count": 35,
      "outputs": [
        {
          "output_type": "stream",
          "text": [
            "Passed\n"
          ],
          "name": "stdout"
        }
      ]
    },
    {
      "cell_type": "code",
      "metadata": {
        "colab": {
          "base_uri": "https://localhost:8080/"
        },
        "id": "EKIDWAWLH3vn",
        "outputId": "c3f9df33-d409-4bb4-941d-7707170264a8"
      },
      "source": [
        "if grade >= 60:\n",
        "  print('Passed')\n",
        "print('Good job!')"
      ],
      "execution_count": 39,
      "outputs": [
        {
          "output_type": "stream",
          "text": [
            "Passed\n",
            "Good job!\n"
          ],
          "name": "stdout"
        }
      ]
    },
    {
      "cell_type": "code",
      "metadata": {
        "colab": {
          "base_uri": "https://localhost:8080/"
        },
        "id": "oCNhOLB5IL62",
        "outputId": "fcc80f3c-9ac4-4dd7-9442-2d8f400590b6"
      },
      "source": [
        "# if Statement Flowchart\n",
        "if 1:\n",
        "    print('Nonzero values are true, so this will print')"
      ],
      "execution_count": 40,
      "outputs": [
        {
          "output_type": "stream",
          "text": [
            "Nonzero values are true, so this will print\n"
          ],
          "name": "stdout"
        }
      ]
    },
    {
      "cell_type": "code",
      "metadata": {
        "id": "cPOLf1KMIQAH"
      },
      "source": [
        "if 0:\n",
        "    print('Zero is false, so this will not print')"
      ],
      "execution_count": 41,
      "outputs": []
    },
    {
      "cell_type": "code",
      "metadata": {
        "colab": {
          "base_uri": "https://localhost:8080/"
        },
        "id": "n5cCxtwUIRrf",
        "outputId": "14d0414f-cec5-47b3-e1b5-859fa4817f0c"
      },
      "source": [
        "grade = 85\n",
        "\n",
        "if grade >= 60: \n",
        "    print('Passed')\n",
        "else:\n",
        "    print('Failed')\n",
        "\n",
        "grade = 57\n",
        "\n",
        "if grade >= 60: \n",
        "    print('Passed')\n",
        "else:\n",
        "    print('Failed')\n",
        "\n",
        "grade = 99\n",
        "\n",
        "if grade >= 60: \n",
        "    print('Passed')\n",
        "else:\n",
        "    print('Failed')"
      ],
      "execution_count": 42,
      "outputs": [
        {
          "output_type": "stream",
          "text": [
            "Passed\n",
            "Failed\n",
            "Passed\n"
          ],
          "name": "stdout"
        }
      ]
    },
    {
      "cell_type": "code",
      "metadata": {
        "colab": {
          "base_uri": "https://localhost:8080/",
          "height": 36
        },
        "id": "FUUTVLPNIfvv",
        "outputId": "2b71cd31-38dd-4c33-958f-4e28b1c9df33"
      },
      "source": [
        "grade = 87\n",
        "\n",
        "if grade >= 60:\n",
        "    result = 'Passed'\n",
        "else:\n",
        "    result = 'Failed'\n",
        "    \n",
        "result"
      ],
      "execution_count": 44,
      "outputs": [
        {
          "output_type": "execute_result",
          "data": {
            "application/vnd.google.colaboratory.intrinsic+json": {
              "type": "string"
            },
            "text/plain": [
              "'Passed'"
            ]
          },
          "metadata": {
            "tags": []
          },
          "execution_count": 44
        }
      ]
    },
    {
      "cell_type": "code",
      "metadata": {
        "colab": {
          "base_uri": "https://localhost:8080/",
          "height": 36
        },
        "id": "Omtix_FnInKC",
        "outputId": "229c46dc-8b9c-47eb-cc7e-e6c193c46376"
      },
      "source": [
        "result = ('Passed' if grade >= 60 else 'Failed')\n",
        "\n",
        "result"
      ],
      "execution_count": 45,
      "outputs": [
        {
          "output_type": "execute_result",
          "data": {
            "application/vnd.google.colaboratory.intrinsic+json": {
              "type": "string"
            },
            "text/plain": [
              "'Passed'"
            ]
          },
          "metadata": {
            "tags": []
          },
          "execution_count": 45
        }
      ]
    },
    {
      "cell_type": "code",
      "metadata": {
        "colab": {
          "base_uri": "https://localhost:8080/",
          "height": 36
        },
        "id": "zqopvjJYIq83",
        "outputId": "546e8ea3-30e2-4491-dfa1-c048c691b440"
      },
      "source": [
        "\n",
        "'Passed' if grade >= 60 else 'Failed'"
      ],
      "execution_count": 46,
      "outputs": [
        {
          "output_type": "execute_result",
          "data": {
            "application/vnd.google.colaboratory.intrinsic+json": {
              "type": "string"
            },
            "text/plain": [
              "'Passed'"
            ]
          },
          "metadata": {
            "tags": []
          },
          "execution_count": 46
        }
      ]
    },
    {
      "cell_type": "code",
      "metadata": {
        "colab": {
          "base_uri": "https://localhost:8080/"
        },
        "id": "7Pnn8JV7Is_3",
        "outputId": "a9f466dd-49d3-4f1d-c903-8e03b4dda550"
      },
      "source": [
        "grade = 49\n",
        "\n",
        "if grade >= 60:\n",
        "    print('Passed')\n",
        "else:\n",
        "    print('Failed')\n",
        "    print('You must take this course again')\n",
        "    \n",
        "grade = 100\n",
        "\n",
        "if grade >= 60:\n",
        "    print('Passed')\n",
        "else:\n",
        "    print('Failed')\n",
        "print('You must take this course again')"
      ],
      "execution_count": 47,
      "outputs": [
        {
          "output_type": "stream",
          "text": [
            "Failed\n",
            "You must take this course again\n",
            "Passed\n",
            "You must take this course again\n"
          ],
          "name": "stdout"
        }
      ]
    },
    {
      "cell_type": "code",
      "metadata": {
        "colab": {
          "base_uri": "https://localhost:8080/"
        },
        "id": "f7njw_ViIy4C",
        "outputId": "8edaa1b8-e980-49ee-a1ab-c370086a9f40"
      },
      "source": [
        "grade = 77\n",
        "\n",
        "if grade >= 90:\n",
        "    print('A')\n",
        "elif grade >= 80:\n",
        "    print('B')\n",
        "elif grade >= 70:\n",
        "    print('C')\n",
        "elif grade >= 60:\n",
        "    print('D')\n",
        "else:\n",
        "    print('F')"
      ],
      "execution_count": 48,
      "outputs": [
        {
          "output_type": "stream",
          "text": [
            "C\n"
          ],
          "name": "stdout"
        }
      ]
    },
    {
      "cell_type": "markdown",
      "metadata": {
        "id": "3kjeaucUJAHG"
      },
      "source": [
        "## While"
      ]
    },
    {
      "cell_type": "code",
      "metadata": {
        "colab": {
          "base_uri": "https://localhost:8080/"
        },
        "id": "RtQ_nnjTI4DI",
        "outputId": "bb249b9c-2b57-4ded-e038-d21a668fdb16"
      },
      "source": [
        "product = 3\n",
        "\n",
        "while product <= 50:\n",
        "    product = product * 3\n",
        "    \n",
        "product"
      ],
      "execution_count": 49,
      "outputs": [
        {
          "output_type": "execute_result",
          "data": {
            "text/plain": [
              "81"
            ]
          },
          "metadata": {
            "tags": []
          },
          "execution_count": 49
        }
      ]
    },
    {
      "cell_type": "code",
      "metadata": {
        "colab": {
          "base_uri": "https://localhost:8080/"
        },
        "id": "h3mxwYGkJD9I",
        "outputId": "5c3c19e9-6c92-46a4-824f-8dfe79d240a6"
      },
      "source": [
        "for character in 'Programming':\n",
        "    print(character, end='  ')"
      ],
      "execution_count": 53,
      "outputs": [
        {
          "output_type": "stream",
          "text": [
            "P  r  o  g  r  a  m  m  i  n  g  "
          ],
          "name": "stdout"
        }
      ]
    },
    {
      "cell_type": "code",
      "metadata": {
        "colab": {
          "base_uri": "https://localhost:8080/"
        },
        "id": "pXSMjXYOJO8P",
        "outputId": "e099c932-edca-400a-8f32-09299fba90f5"
      },
      "source": [
        "# Function print’s sep Keyword Argument \n",
        "print(10, 20, 30, sep=', ')"
      ],
      "execution_count": 54,
      "outputs": [
        {
          "output_type": "stream",
          "text": [
            "10, 20, 30\n"
          ],
          "name": "stdout"
        }
      ]
    },
    {
      "cell_type": "code",
      "metadata": {
        "colab": {
          "base_uri": "https://localhost:8080/"
        },
        "id": "h1IHVUi1JOiO",
        "outputId": "c88fbe39-1360-494b-a3f0-952586f2eca3"
      },
      "source": [
        "# Iterables, Lists and Iterators\n",
        "total = 0\n",
        "\n",
        "for number in [2, -3, 0, 17, 9]:\n",
        "    total = total + number\n",
        "    \n",
        "total\n"
      ],
      "execution_count": 55,
      "outputs": [
        {
          "output_type": "execute_result",
          "data": {
            "text/plain": [
              "25"
            ]
          },
          "metadata": {
            "tags": []
          },
          "execution_count": 55
        }
      ]
    },
    {
      "cell_type": "code",
      "metadata": {
        "colab": {
          "base_uri": "https://localhost:8080/"
        },
        "id": "URoS2gdHJYUW",
        "outputId": "be0f43c7-f6a3-46c3-e70c-f2dcadc0386b"
      },
      "source": [
        "for counter in range(10):\n",
        "    print(counter, end=' ')"
      ],
      "execution_count": 56,
      "outputs": [
        {
          "output_type": "stream",
          "text": [
            "0 1 2 3 4 5 6 7 8 9 "
          ],
          "name": "stdout"
        }
      ]
    },
    {
      "cell_type": "code",
      "metadata": {
        "colab": {
          "base_uri": "https://localhost:8080/"
        },
        "id": "0D9tS3glJbbF",
        "outputId": "7270fcc5-70cf-428f-f542-c0aed4c7b3fd"
      },
      "source": [
        "total = 0\n",
        "\n",
        "for number in [1, 2, 3, 4, 5]:\n",
        "    total += number\n",
        "\n",
        "total"
      ],
      "execution_count": 58,
      "outputs": [
        {
          "output_type": "execute_result",
          "data": {
            "text/plain": [
              "15"
            ]
          },
          "metadata": {
            "tags": []
          },
          "execution_count": 58
        }
      ]
    },
    {
      "cell_type": "code",
      "metadata": {
        "colab": {
          "base_uri": "https://localhost:8080/"
        },
        "id": "QlhDRwiPJjbd",
        "outputId": "a742b2bd-fdd9-487c-dcfa-7f734d64fb1b"
      },
      "source": [
        "for number in range(5, 10):\n",
        "    print(number, end=' ')\n",
        "\n"
      ],
      "execution_count": 59,
      "outputs": [
        {
          "output_type": "stream",
          "text": [
            "5 6 7 8 9 "
          ],
          "name": "stdout"
        }
      ]
    },
    {
      "cell_type": "code",
      "metadata": {
        "colab": {
          "base_uri": "https://localhost:8080/"
        },
        "id": "19DBmmu8Jolu",
        "outputId": "b4bfd321-1dc6-4fb5-c64a-447edc73e92f"
      },
      "source": [
        "for number in range(0, 10, 2):\n",
        "    print(number, end=' ')\n",
        "\n"
      ],
      "execution_count": 60,
      "outputs": [
        {
          "output_type": "stream",
          "text": [
            "0 2 4 6 8 "
          ],
          "name": "stdout"
        }
      ]
    },
    {
      "cell_type": "code",
      "metadata": {
        "colab": {
          "base_uri": "https://localhost:8080/"
        },
        "id": "5yCvIKt1Jqrt",
        "outputId": "a6d83cdd-5581-4717-9a3e-15b6a4161ad3"
      },
      "source": [
        "for number in range(10, 0, -2):\n",
        "    print(number, end=' ')"
      ],
      "execution_count": 61,
      "outputs": [
        {
          "output_type": "stream",
          "text": [
            "10 8 6 4 2 "
          ],
          "name": "stdout"
        }
      ]
    },
    {
      "cell_type": "code",
      "metadata": {
        "colab": {
          "base_uri": "https://localhost:8080/"
        },
        "id": "hk7d4MrRJroX",
        "outputId": "dc6a089b-b8f5-4cae-a934-aa24cfd5a3a0"
      },
      "source": [
        "amount = 112.31\n",
        "\n",
        "print(amount)\n",
        "\n"
      ],
      "execution_count": 62,
      "outputs": [
        {
          "output_type": "stream",
          "text": [
            "112.31\n"
          ],
          "name": "stdout"
        }
      ]
    },
    {
      "cell_type": "code",
      "metadata": {
        "colab": {
          "base_uri": "https://localhost:8080/"
        },
        "id": "631FA9BxJz49",
        "outputId": "d101b5d5-33e3-48a9-a681-dc88688872de"
      },
      "source": [
        "print(f'{amount:.20f}')\n",
        "\n"
      ],
      "execution_count": 63,
      "outputs": [
        {
          "output_type": "stream",
          "text": [
            "112.31000000000000227374\n"
          ],
          "name": "stdout"
        }
      ]
    },
    {
      "cell_type": "code",
      "metadata": {
        "colab": {
          "base_uri": "https://localhost:8080/"
        },
        "id": "IvOxv9YvJ3Ld",
        "outputId": "b067d3ba-c970-4a3e-82b3-6d1448d81a0a"
      },
      "source": [
        "# Importing Type Decimal from the decimal Module \n",
        "from decimal import Decimal\n",
        "\n",
        "# Creating Decimals\n",
        "principal = Decimal('1000.00')\n",
        "principal\n",
        "\n"
      ],
      "execution_count": 64,
      "outputs": [
        {
          "output_type": "execute_result",
          "data": {
            "text/plain": [
              "Decimal('1000.00')"
            ]
          },
          "metadata": {
            "tags": []
          },
          "execution_count": 64
        }
      ]
    },
    {
      "cell_type": "code",
      "metadata": {
        "colab": {
          "base_uri": "https://localhost:8080/"
        },
        "id": "_BjWEBHtJ5zl",
        "outputId": "acaf6ec9-da7c-4566-eae0-858c7e4c17df"
      },
      "source": [
        "rate = Decimal('0.05')\n",
        "rate\n",
        "\n"
      ],
      "execution_count": 65,
      "outputs": [
        {
          "output_type": "execute_result",
          "data": {
            "text/plain": [
              "Decimal('0.05')"
            ]
          },
          "metadata": {
            "tags": []
          },
          "execution_count": 65
        }
      ]
    },
    {
      "cell_type": "code",
      "metadata": {
        "colab": {
          "base_uri": "https://localhost:8080/"
        },
        "id": "DwzjrLVEJ7-9",
        "outputId": "2dccb715-ab70-4813-ff63-ea1c42191778"
      },
      "source": [
        "# Decimal Arithmetic \n",
        "x = Decimal('10.5')\n",
        "y = Decimal('2')\n",
        "x + y\n",
        "x // y\n",
        "x += y\n",
        "x\n",
        "\n"
      ],
      "execution_count": 66,
      "outputs": [
        {
          "output_type": "execute_result",
          "data": {
            "text/plain": [
              "Decimal('12.5')"
            ]
          },
          "metadata": {
            "tags": []
          },
          "execution_count": 66
        }
      ]
    },
    {
      "cell_type": "code",
      "metadata": {
        "colab": {
          "base_uri": "https://localhost:8080/"
        },
        "id": "ru0A9atjJ_SW",
        "outputId": "4ced6bcf-7510-4577-c6f3-06a2c86e0ed9"
      },
      "source": [
        "# Calculating Compound Interest\n",
        "for year in range(1, 11):\n",
        "    amount = principal * (1 + rate) ** year \n",
        "    print(f'{year:>2}{amount:>10.2f}')"
      ],
      "execution_count": 67,
      "outputs": [
        {
          "output_type": "stream",
          "text": [
            " 1   1050.00\n",
            " 2   1102.50\n",
            " 3   1157.62\n",
            " 4   1215.51\n",
            " 5   1276.28\n",
            " 6   1340.10\n",
            " 7   1407.10\n",
            " 8   1477.46\n",
            " 9   1551.33\n",
            "10   1628.89\n"
          ],
          "name": "stdout"
        }
      ]
    },
    {
      "cell_type": "code",
      "metadata": {
        "colab": {
          "base_uri": "https://localhost:8080/"
        },
        "id": "1Mkbe0lmKA9Z",
        "outputId": "2fa5a231-ea54-4a7c-d5d8-e60818325719"
      },
      "source": [
        "for number in range(100):\n",
        "    if number == 10:\n",
        "        break\n",
        "    print(number, end=' ')\n",
        "    \n"
      ],
      "execution_count": 68,
      "outputs": [
        {
          "output_type": "stream",
          "text": [
            "0 1 2 3 4 5 6 7 8 9 "
          ],
          "name": "stdout"
        }
      ]
    },
    {
      "cell_type": "code",
      "metadata": {
        "colab": {
          "base_uri": "https://localhost:8080/"
        },
        "id": "U9gc0RG4KGld",
        "outputId": "20b3ab88-eff8-4e07-feff-d51c46f0f2a6"
      },
      "source": [
        "for number in range(10):\n",
        "    if number == 5:\n",
        "        continue\n",
        "    print(number, end=' ')"
      ],
      "execution_count": 69,
      "outputs": [
        {
          "output_type": "stream",
          "text": [
            "0 1 2 3 4 6 7 8 9 "
          ],
          "name": "stdout"
        }
      ]
    },
    {
      "cell_type": "code",
      "metadata": {
        "colab": {
          "base_uri": "https://localhost:8080/"
        },
        "id": "k9C461CuKIf9",
        "outputId": "bd9822c5-6125-4ea9-a3e2-05c14960099e"
      },
      "source": [
        "gender = 'Female'\n",
        "age = 70\n",
        "\n",
        "if gender == 'Female' and age >= 65:\n",
        "    print('Senior female')\n",
        "    \n"
      ],
      "execution_count": 70,
      "outputs": [
        {
          "output_type": "stream",
          "text": [
            "Senior female\n"
          ],
          "name": "stdout"
        }
      ]
    },
    {
      "cell_type": "code",
      "metadata": {
        "colab": {
          "base_uri": "https://localhost:8080/"
        },
        "id": "FaRFoXFIKPA1",
        "outputId": "d9fe7c0b-4ada-4cd3-dca7-2b22cca88050"
      },
      "source": [
        "# Boolean Operator or\n",
        "semester_average = 83\n",
        "final_exam = 95\n",
        "\n",
        "if semester_average >= 90 or final_exam >= 90:\n",
        "    print('Student gets an A')\n",
        "    \n"
      ],
      "execution_count": 71,
      "outputs": [
        {
          "output_type": "stream",
          "text": [
            "Student gets an A\n"
          ],
          "name": "stdout"
        }
      ]
    },
    {
      "cell_type": "code",
      "metadata": {
        "colab": {
          "base_uri": "https://localhost:8080/"
        },
        "id": "-eRE8hLfKTVt",
        "outputId": "a1bb46c1-5ad2-41e7-b2e9-b23288cca29b"
      },
      "source": [
        "# Boolean Operator not \n",
        "grade = 87\n",
        "\n",
        "if not grade == -1:\n",
        "   print('The grade is', grade)\n",
        "\n"
      ],
      "execution_count": 72,
      "outputs": [
        {
          "output_type": "stream",
          "text": [
            "The grade is 87\n"
          ],
          "name": "stdout"
        }
      ]
    },
    {
      "cell_type": "code",
      "metadata": {
        "colab": {
          "base_uri": "https://localhost:8080/"
        },
        "id": "Ye6gcTjMKWEI",
        "outputId": "ee80b117-479b-4d66-9d32-5e3e65aeb769"
      },
      "source": [
        "if grade != -1:\n",
        "   print('The next grade is', grade)"
      ],
      "execution_count": 73,
      "outputs": [
        {
          "output_type": "stream",
          "text": [
            "The next grade is 87\n"
          ],
          "name": "stdout"
        }
      ]
    },
    {
      "cell_type": "markdown",
      "metadata": {
        "id": "0QQvGSUtLMu5"
      },
      "source": [
        "## Funciones"
      ]
    },
    {
      "cell_type": "code",
      "metadata": {
        "colab": {
          "base_uri": "https://localhost:8080/"
        },
        "id": "DDHQAF6VKavN",
        "outputId": "439412bc-bc64-47d3-cac2-85d22bcea47e"
      },
      "source": [
        "\n",
        "def square(number):\n",
        "    \"\"\"Calculate the square of number.\"\"\"\n",
        "    return number ** 2\n",
        "\n",
        "square(7)\n",
        "\n"
      ],
      "execution_count": 76,
      "outputs": [
        {
          "output_type": "execute_result",
          "data": {
            "text/plain": [
              "49"
            ]
          },
          "metadata": {
            "tags": []
          },
          "execution_count": 76
        }
      ]
    },
    {
      "cell_type": "code",
      "metadata": {
        "colab": {
          "base_uri": "https://localhost:8080/"
        },
        "id": "2u2f0Z1wKoun",
        "outputId": "e9de2ff8-cb65-4de3-c3d6-5a207d00b755"
      },
      "source": [
        "square(2.5)\n"
      ],
      "execution_count": 77,
      "outputs": [
        {
          "output_type": "execute_result",
          "data": {
            "text/plain": [
              "6.25"
            ]
          },
          "metadata": {
            "tags": []
          },
          "execution_count": 77
        }
      ]
    },
    {
      "cell_type": "code",
      "metadata": {
        "colab": {
          "base_uri": "https://localhost:8080/"
        },
        "id": "J-U6gznLKrRZ",
        "outputId": "f9114550-0396-4da0-b694-1aa07d47a599"
      },
      "source": [
        "def maximum(value1, value2, value3):\n",
        "    \"\"\"Return the maximum of three values.\"\"\"\n",
        "    max_value = value1\n",
        "    if value2 > max_value:\n",
        "        max_value = value2\n",
        "    if value3 > max_value:\n",
        "        max_value = value3\n",
        "    return max_value\n",
        "\n",
        "maximum(12, 27, 36)\n",
        "\n"
      ],
      "execution_count": 78,
      "outputs": [
        {
          "output_type": "execute_result",
          "data": {
            "text/plain": [
              "36"
            ]
          },
          "metadata": {
            "tags": []
          },
          "execution_count": 78
        }
      ]
    },
    {
      "cell_type": "code",
      "metadata": {
        "colab": {
          "base_uri": "https://localhost:8080/"
        },
        "id": "BSoTy8wSLWu1",
        "outputId": "948328d8-b6ef-40d1-81b5-74b48595010e"
      },
      "source": [
        "maximum(12.3, 45.6, 9.7)"
      ],
      "execution_count": 79,
      "outputs": [
        {
          "output_type": "execute_result",
          "data": {
            "text/plain": [
              "45.6"
            ]
          },
          "metadata": {
            "tags": []
          },
          "execution_count": 79
        }
      ]
    },
    {
      "cell_type": "code",
      "metadata": {
        "colab": {
          "base_uri": "https://localhost:8080/",
          "height": 36
        },
        "id": "nV6VbLRnLaE_",
        "outputId": "d26a49b0-5348-45f2-9f60-4d8fe68794af"
      },
      "source": [
        "maximum('yellow', 'red', 'orange')"
      ],
      "execution_count": 80,
      "outputs": [
        {
          "output_type": "execute_result",
          "data": {
            "application/vnd.google.colaboratory.intrinsic+json": {
              "type": "string"
            },
            "text/plain": [
              "'yellow'"
            ]
          },
          "metadata": {
            "tags": []
          },
          "execution_count": 80
        }
      ]
    },
    {
      "cell_type": "code",
      "metadata": {
        "colab": {
          "base_uri": "https://localhost:8080/"
        },
        "id": "g9UrGDXfLd8e",
        "outputId": "bdc7dc60-99c3-4da7-a32f-5b269180cc48"
      },
      "source": [
        "maximum(13.5, -3, 7)"
      ],
      "execution_count": 81,
      "outputs": [
        {
          "output_type": "execute_result",
          "data": {
            "text/plain": [
              "13.5"
            ]
          },
          "metadata": {
            "tags": []
          },
          "execution_count": 81
        }
      ]
    },
    {
      "cell_type": "code",
      "metadata": {
        "colab": {
          "base_uri": "https://localhost:8080/",
          "height": 36
        },
        "id": "DSAu3W_dLgdk",
        "outputId": "3fb42f59-f55b-431b-ec86-9c17cee2d82d"
      },
      "source": [
        "# Python’s Built-In max and min Functions\n",
        "max('yellow', 'red', 'orange', 'blue', 'green')\n",
        "\n"
      ],
      "execution_count": 82,
      "outputs": [
        {
          "output_type": "execute_result",
          "data": {
            "application/vnd.google.colaboratory.intrinsic+json": {
              "type": "string"
            },
            "text/plain": [
              "'yellow'"
            ]
          },
          "metadata": {
            "tags": []
          },
          "execution_count": 82
        }
      ]
    },
    {
      "cell_type": "code",
      "metadata": {
        "colab": {
          "base_uri": "https://localhost:8080/"
        },
        "id": "n6L3sgabLmGE",
        "outputId": "5b3b730d-067f-4482-dabe-fb47642a998e"
      },
      "source": [
        "min(15, 9, 27, 14)"
      ],
      "execution_count": 83,
      "outputs": [
        {
          "output_type": "execute_result",
          "data": {
            "text/plain": [
              "9"
            ]
          },
          "metadata": {
            "tags": []
          },
          "execution_count": 83
        }
      ]
    },
    {
      "cell_type": "markdown",
      "metadata": {
        "id": "EHynm0WHLsKt"
      },
      "source": [
        "## Random"
      ]
    },
    {
      "cell_type": "code",
      "metadata": {
        "colab": {
          "base_uri": "https://localhost:8080/"
        },
        "id": "TSZrdPZTLn6U",
        "outputId": "48a35a6a-c5a0-4bf2-8521-737fc93fd546"
      },
      "source": [
        "import random\n",
        "\n",
        "for roll in range(10):\n",
        "    print(random.randrange(1, 7), end=' ')\n",
        "\n"
      ],
      "execution_count": 85,
      "outputs": [
        {
          "output_type": "stream",
          "text": [
            "1 3 5 3 1 5 6 4 3 5 "
          ],
          "name": "stdout"
        }
      ]
    },
    {
      "cell_type": "code",
      "metadata": {
        "colab": {
          "base_uri": "https://localhost:8080/"
        },
        "id": "lAP_As8cLynW",
        "outputId": "d313c885-3126-44a1-b84b-77e21fb18a41"
      },
      "source": [
        "for roll in range(10):\n",
        "    print(random.randrange(1, 7), end=' ')\n",
        "\n"
      ],
      "execution_count": 86,
      "outputs": [
        {
          "output_type": "stream",
          "text": [
            "1 5 2 5 1 4 6 2 3 2 "
          ],
          "name": "stdout"
        }
      ]
    },
    {
      "cell_type": "code",
      "metadata": {
        "colab": {
          "base_uri": "https://localhost:8080/"
        },
        "id": "Sjp9gKaeL0t1",
        "outputId": "d49a94af-0c70-43c5-b533-f5d19c6cb76c"
      },
      "source": [
        "# Seeding the Random-Number Generator for Reproducibility\n",
        "\n",
        "random.seed(32)\n",
        "\n",
        "for roll in range(10):\n",
        "    print(random.randrange(1, 7), end=' ')\n",
        "    \n"
      ],
      "execution_count": 87,
      "outputs": [
        {
          "output_type": "stream",
          "text": [
            "1 2 2 3 6 2 4 1 6 1 "
          ],
          "name": "stdout"
        }
      ]
    },
    {
      "cell_type": "code",
      "metadata": {
        "colab": {
          "base_uri": "https://localhost:8080/"
        },
        "id": "aEU__5q7L281",
        "outputId": "8e36fcf0-ff70-4927-eb2e-19c922b7a0b1"
      },
      "source": [
        "for roll in range(10):\n",
        "    print(random.randrange(1, 7), end=' ')\n",
        "    \n"
      ],
      "execution_count": 88,
      "outputs": [
        {
          "output_type": "stream",
          "text": [
            "1 3 5 3 1 5 6 4 3 5 "
          ],
          "name": "stdout"
        }
      ]
    },
    {
      "cell_type": "code",
      "metadata": {
        "colab": {
          "base_uri": "https://localhost:8080/"
        },
        "id": "z_HltXA4L6nx",
        "outputId": "d6bb6efb-60e8-46c9-dff6-0b2b00144278"
      },
      "source": [
        "random.seed(32)\n",
        "\n",
        "for roll in range(10):\n",
        "    print(random.randrange(1, 7), end=' ')"
      ],
      "execution_count": 89,
      "outputs": [
        {
          "output_type": "stream",
          "text": [
            "1 2 2 3 6 2 4 1 6 1 "
          ],
          "name": "stdout"
        }
      ]
    },
    {
      "cell_type": "code",
      "metadata": {
        "colab": {
          "base_uri": "https://localhost:8080/"
        },
        "id": "keTo6H2mL8QF",
        "outputId": "a4591977-171a-40b8-9663-a0566f791e41"
      },
      "source": [
        "import math\n",
        "\n",
        "math.sqrt(900)\n",
        "\n"
      ],
      "execution_count": 90,
      "outputs": [
        {
          "output_type": "execute_result",
          "data": {
            "text/plain": [
              "30.0"
            ]
          },
          "metadata": {
            "tags": []
          },
          "execution_count": 90
        }
      ]
    },
    {
      "cell_type": "code",
      "metadata": {
        "colab": {
          "base_uri": "https://localhost:8080/"
        },
        "id": "uM9NXpfEMHD9",
        "outputId": "8767c8d3-7cd8-4019-f278-ab3204f6e198"
      },
      "source": [
        "math.fabs(-10)"
      ],
      "execution_count": 91,
      "outputs": [
        {
          "output_type": "execute_result",
          "data": {
            "text/plain": [
              "10.0"
            ]
          },
          "metadata": {
            "tags": []
          },
          "execution_count": 91
        }
      ]
    },
    {
      "cell_type": "code",
      "metadata": {
        "colab": {
          "base_uri": "https://localhost:8080/"
        },
        "id": "CGxUqfKLMIM2",
        "outputId": "b14a15cf-1ab5-45c2-8463-7d9ac53217f0"
      },
      "source": [
        "def rectangle_area(length=2, width=3):\n",
        "    \"\"\"Return a rectangle's area.\"\"\"\n",
        "    return length * width\n",
        "\n",
        "rectangle_area()\n",
        "\n"
      ],
      "execution_count": 92,
      "outputs": [
        {
          "output_type": "execute_result",
          "data": {
            "text/plain": [
              "6"
            ]
          },
          "metadata": {
            "tags": []
          },
          "execution_count": 92
        }
      ]
    },
    {
      "cell_type": "code",
      "metadata": {
        "colab": {
          "base_uri": "https://localhost:8080/"
        },
        "id": "_Npt3zreMQ3t",
        "outputId": "c7173137-1ac0-45b2-9a07-72c78610ba21"
      },
      "source": [
        "rectangle_area(10)\n"
      ],
      "execution_count": 93,
      "outputs": [
        {
          "output_type": "execute_result",
          "data": {
            "text/plain": [
              "30"
            ]
          },
          "metadata": {
            "tags": []
          },
          "execution_count": 93
        }
      ]
    },
    {
      "cell_type": "code",
      "metadata": {
        "colab": {
          "base_uri": "https://localhost:8080/"
        },
        "id": "NsJ-37zFMTSt",
        "outputId": "468ff09f-a145-46a9-e4a2-5cd98bcedc04"
      },
      "source": [
        "\n",
        "rectangle_area(10, 5)"
      ],
      "execution_count": 94,
      "outputs": [
        {
          "output_type": "execute_result",
          "data": {
            "text/plain": [
              "50"
            ]
          },
          "metadata": {
            "tags": []
          },
          "execution_count": 94
        }
      ]
    },
    {
      "cell_type": "code",
      "metadata": {
        "colab": {
          "base_uri": "https://localhost:8080/"
        },
        "id": "4jXKtvFpMVGd",
        "outputId": "23183800-8cb5-42d4-94aa-09fce7863728"
      },
      "source": [
        "def rectangle_area(length, width):\n",
        "    \"\"\"Return a rectangle's area.\"\"\"\n",
        "    return length * width\n",
        "\n",
        "rectangle_area(width=5, length=10)"
      ],
      "execution_count": 95,
      "outputs": [
        {
          "output_type": "execute_result",
          "data": {
            "text/plain": [
              "50"
            ]
          },
          "metadata": {
            "tags": []
          },
          "execution_count": 95
        }
      ]
    },
    {
      "cell_type": "code",
      "metadata": {
        "colab": {
          "base_uri": "https://localhost:8080/"
        },
        "id": "UwOfIyC4MY6F",
        "outputId": "0dd42601-80ba-4944-9374-0b5a2ffff86a"
      },
      "source": [
        "def average(*args):\n",
        "    return sum(args) / len(args)\n",
        "\n",
        "average(5, 10)\n"
      ],
      "execution_count": 96,
      "outputs": [
        {
          "output_type": "execute_result",
          "data": {
            "text/plain": [
              "7.5"
            ]
          },
          "metadata": {
            "tags": []
          },
          "execution_count": 96
        }
      ]
    },
    {
      "cell_type": "code",
      "metadata": {
        "colab": {
          "base_uri": "https://localhost:8080/"
        },
        "id": "-4f8cLCVMesN",
        "outputId": "519518bf-e08f-42b6-9e2a-37587dfd7bbe"
      },
      "source": [
        "\n",
        "average(5, 10, 15)\n",
        "\n"
      ],
      "execution_count": 97,
      "outputs": [
        {
          "output_type": "execute_result",
          "data": {
            "text/plain": [
              "10.0"
            ]
          },
          "metadata": {
            "tags": []
          },
          "execution_count": 97
        }
      ]
    },
    {
      "cell_type": "code",
      "metadata": {
        "colab": {
          "base_uri": "https://localhost:8080/"
        },
        "id": "BkV6iBfZMgpM",
        "outputId": "03d26db2-3451-45a8-e4c8-2593d45341f0"
      },
      "source": [
        "average(5, 10, 15, 20)\n",
        "\n"
      ],
      "execution_count": 98,
      "outputs": [
        {
          "output_type": "execute_result",
          "data": {
            "text/plain": [
              "12.5"
            ]
          },
          "metadata": {
            "tags": []
          },
          "execution_count": 98
        }
      ]
    },
    {
      "cell_type": "code",
      "metadata": {
        "colab": {
          "base_uri": "https://localhost:8080/"
        },
        "id": "3HEGIxwhMi0k",
        "outputId": "48e4b3ee-d51c-4d4f-d409-185369b49b7d"
      },
      "source": [
        "# Passing an Iterable’s Individual Elements as Function Arguments\n",
        "grades = [88, 75, 96, 55, 83]\n",
        "\n",
        "average(*grades)"
      ],
      "execution_count": 99,
      "outputs": [
        {
          "output_type": "execute_result",
          "data": {
            "text/plain": [
              "79.4"
            ]
          },
          "metadata": {
            "tags": []
          },
          "execution_count": 99
        }
      ]
    },
    {
      "cell_type": "markdown",
      "metadata": {
        "id": "YFVFWc9OMwed"
      },
      "source": [
        "## Global"
      ]
    },
    {
      "cell_type": "code",
      "metadata": {
        "colab": {
          "base_uri": "https://localhost:8080/"
        },
        "id": "SKyb0qoCMzfN",
        "outputId": "72d3bfa9-deba-474f-e599-1646b0966e2f"
      },
      "source": [
        "x = 7\n",
        "\n",
        "def access_global():\n",
        "    print('x printed from access_global:', x)\n",
        "    \n",
        "access_global()\n",
        "\n",
        "\n"
      ],
      "execution_count": 100,
      "outputs": [
        {
          "output_type": "stream",
          "text": [
            "x printed from access_global: 7\n"
          ],
          "name": "stdout"
        }
      ]
    },
    {
      "cell_type": "code",
      "metadata": {
        "colab": {
          "base_uri": "https://localhost:8080/"
        },
        "id": "HsPURIptMl-k",
        "outputId": "74817b8e-ad2b-4c6b-9523-f6c5401fed53"
      },
      "source": [
        "def try_to_modify_global():\n",
        "    x = 3.5\n",
        "    print('x printed from try_to_modify_global:', x)\n",
        "    \n",
        "try_to_modify_global()\n",
        "\n",
        "x\n",
        "\n"
      ],
      "execution_count": 101,
      "outputs": [
        {
          "output_type": "stream",
          "text": [
            "x printed from try_to_modify_global: 3.5\n"
          ],
          "name": "stdout"
        },
        {
          "output_type": "execute_result",
          "data": {
            "text/plain": [
              "7"
            ]
          },
          "metadata": {
            "tags": []
          },
          "execution_count": 101
        }
      ]
    },
    {
      "cell_type": "code",
      "metadata": {
        "colab": {
          "base_uri": "https://localhost:8080/",
          "height": 54
        },
        "id": "yYFAJ7bwM50E",
        "outputId": "1dc063c3-59aa-4b66-9dfa-82bf9830385f"
      },
      "source": [
        "def modify_global():\n",
        "    global x;\n",
        "    x = 'hello'\n",
        "    print('x printed from modify_global:', x)\n",
        "    \n",
        "modify_global()\n",
        "\n",
        "x\n",
        "\n"
      ],
      "execution_count": 102,
      "outputs": [
        {
          "output_type": "stream",
          "text": [
            "x printed from modify_global: hello\n"
          ],
          "name": "stdout"
        },
        {
          "output_type": "execute_result",
          "data": {
            "application/vnd.google.colaboratory.intrinsic+json": {
              "type": "string"
            },
            "text/plain": [
              "'hello'"
            ]
          },
          "metadata": {
            "tags": []
          },
          "execution_count": 102
        }
      ]
    },
    {
      "cell_type": "code",
      "metadata": {
        "colab": {
          "base_uri": "https://localhost:8080/"
        },
        "id": "LPQEKzxzM8W1",
        "outputId": "7e9123d8-2a62-41a5-f105-c4a115256c3f"
      },
      "source": [
        "# Shadowing Functions\n",
        "sum = 10 + 5\n",
        "\n",
        "sum\n",
        "\n"
      ],
      "execution_count": 103,
      "outputs": [
        {
          "output_type": "execute_result",
          "data": {
            "text/plain": [
              "15"
            ]
          },
          "metadata": {
            "tags": []
          },
          "execution_count": 103
        }
      ]
    },
    {
      "cell_type": "code",
      "metadata": {
        "colab": {
          "base_uri": "https://localhost:8080/"
        },
        "id": "PtmNhat0M_CW",
        "outputId": "ea94bc36-9b8c-4e6b-ea41-716d88a2240d"
      },
      "source": [
        "from math import ceil, floor\n",
        "\n",
        "ceil(10.3)\n"
      ],
      "execution_count": 106,
      "outputs": [
        {
          "output_type": "execute_result",
          "data": {
            "text/plain": [
              "11"
            ]
          },
          "metadata": {
            "tags": []
          },
          "execution_count": 106
        }
      ]
    },
    {
      "cell_type": "code",
      "metadata": {
        "colab": {
          "base_uri": "https://localhost:8080/"
        },
        "id": "ZErsU9kcNRbI",
        "outputId": "0c22bd22-398f-4ff8-9f49-fa6a51eb5e89"
      },
      "source": [
        "\n",
        "floor(10.7)\n",
        "\n"
      ],
      "execution_count": 107,
      "outputs": [
        {
          "output_type": "execute_result",
          "data": {
            "text/plain": [
              "10"
            ]
          },
          "metadata": {
            "tags": []
          },
          "execution_count": 107
        }
      ]
    },
    {
      "cell_type": "code",
      "metadata": {
        "id": "Jf2wMAzcNTcm"
      },
      "source": [
        "# Caution: Avoid Wildcard Imports \n",
        "e = 'hello'\n",
        "\n"
      ],
      "execution_count": 108,
      "outputs": []
    },
    {
      "cell_type": "code",
      "metadata": {
        "colab": {
          "base_uri": "https://localhost:8080/"
        },
        "id": "gD9HmBBoNV0O",
        "outputId": "0230d8aa-ca50-4d0d-d8c8-e3455aa19176"
      },
      "source": [
        "from math import *\n",
        "\n",
        "e"
      ],
      "execution_count": 109,
      "outputs": [
        {
          "output_type": "execute_result",
          "data": {
            "text/plain": [
              "2.718281828459045"
            ]
          },
          "metadata": {
            "tags": []
          },
          "execution_count": 109
        }
      ]
    },
    {
      "cell_type": "code",
      "metadata": {
        "colab": {
          "base_uri": "https://localhost:8080/"
        },
        "id": "dMQe9bHmNYyI",
        "outputId": "650248b5-9f5e-4336-fe02-396acb307701"
      },
      "source": [
        "# Binding Names for Modules and Module Identifiers\n",
        "import statistics as stats\n",
        "\n",
        "grades = [85, 93, 45, 87, 93]\n",
        "\n",
        "stats.mean(grades)"
      ],
      "execution_count": 110,
      "outputs": [
        {
          "output_type": "execute_result",
          "data": {
            "text/plain": [
              "80.6"
            ]
          },
          "metadata": {
            "tags": []
          },
          "execution_count": 110
        }
      ]
    },
    {
      "cell_type": "markdown",
      "metadata": {
        "id": "Ty97oZI0N9d3"
      },
      "source": [
        "## Diccionarios"
      ]
    },
    {
      "cell_type": "code",
      "metadata": {
        "id": "qNvpRMkxNaY8"
      },
      "source": [
        "codigos_paises = {'Finland': 'fi', 'South Africa': 'za', \n",
        "                  'Nepal': 'np', 'Panama': 'pa'}"
      ],
      "execution_count": 111,
      "outputs": []
    },
    {
      "cell_type": "code",
      "metadata": {
        "colab": {
          "base_uri": "https://localhost:8080/"
        },
        "id": "sc_j_mOcOBGN",
        "outputId": "769a8904-c4a7-4eb3-b8ea-6e89cb87603a"
      },
      "source": [
        "codigos_paises"
      ],
      "execution_count": 112,
      "outputs": [
        {
          "output_type": "execute_result",
          "data": {
            "text/plain": [
              "{'Finland': 'fi', 'Nepal': 'np', 'Panama': 'pa', 'South Africa': 'za'}"
            ]
          },
          "metadata": {
            "tags": []
          },
          "execution_count": 112
        }
      ]
    },
    {
      "cell_type": "code",
      "metadata": {
        "colab": {
          "base_uri": "https://localhost:8080/"
        },
        "id": "OL4UghGFOIYA",
        "outputId": "6def83ee-5594-4084-d96b-5ecd07e8afff"
      },
      "source": [
        "tamano = len(codigos_paises)\n",
        "tamano"
      ],
      "execution_count": 113,
      "outputs": [
        {
          "output_type": "execute_result",
          "data": {
            "text/plain": [
              "4"
            ]
          },
          "metadata": {
            "tags": []
          },
          "execution_count": 113
        }
      ]
    },
    {
      "cell_type": "code",
      "metadata": {
        "colab": {
          "base_uri": "https://localhost:8080/"
        },
        "id": "8hLfzLyDOLXU",
        "outputId": "acb54fe6-ef33-4118-809f-cb186dbb68fa"
      },
      "source": [
        "if codigos_paises:\n",
        "  print('Diccionario no Vacio')\n",
        "else:\n",
        "  print('Diccinario Vacio')"
      ],
      "execution_count": 114,
      "outputs": [
        {
          "output_type": "stream",
          "text": [
            "Diccionario no Vacio\n"
          ],
          "name": "stdout"
        }
      ]
    },
    {
      "cell_type": "code",
      "metadata": {
        "id": "IU_Sv7FKOP_k"
      },
      "source": [
        "codigos_paises.clear()"
      ],
      "execution_count": 115,
      "outputs": []
    },
    {
      "cell_type": "code",
      "metadata": {
        "colab": {
          "base_uri": "https://localhost:8080/"
        },
        "id": "o9TwxMTFOUGl",
        "outputId": "f7e62014-be8d-411f-8969-be44021d898c"
      },
      "source": [
        "if codigos_paises:\n",
        "  print('Diccionario no Vacio')\n",
        "else:\n",
        "  print('Diccinario Vacio')"
      ],
      "execution_count": 116,
      "outputs": [
        {
          "output_type": "stream",
          "text": [
            "Diccinario Vacio\n"
          ],
          "name": "stdout"
        }
      ]
    },
    {
      "cell_type": "code",
      "metadata": {
        "colab": {
          "base_uri": "https://localhost:8080/"
        },
        "id": "AuuUVrP0OVMb",
        "outputId": "1c2a9130-1652-46ad-cfa1-271968a57bd6"
      },
      "source": [
        "dias_por_mes = {'Enero': 31, 'Febrero': 28, 'Marzo': 31, 'Abril': 30}\n",
        "print(dias_por_mes)\n",
        "print(len(dias_por_mes))"
      ],
      "execution_count": 117,
      "outputs": [
        {
          "output_type": "stream",
          "text": [
            "{'Enero': 31, 'Febrero': 28, 'Marzo': 31, 'Abril': 30}\n",
            "4\n"
          ],
          "name": "stdout"
        }
      ]
    },
    {
      "cell_type": "code",
      "metadata": {
        "colab": {
          "base_uri": "https://localhost:8080/"
        },
        "id": "T1kdxWDmOZVk",
        "outputId": "df216785-c27a-478e-8e27-e200b338e4a4"
      },
      "source": [
        "for mes, dias in dias_por_mes.items():\n",
        "  print(f'El mes de {mes} tiene {dias}')"
      ],
      "execution_count": 118,
      "outputs": [
        {
          "output_type": "stream",
          "text": [
            "El mes de Enero tiene 31\n",
            "El mes de Febrero tiene 28\n",
            "El mes de Marzo tiene 31\n",
            "El mes de Abril tiene 30\n"
          ],
          "name": "stdout"
        }
      ]
    },
    {
      "cell_type": "code",
      "metadata": {
        "id": "lxZgJ2uzOcYC"
      },
      "source": [
        "\n",
        "\n",
        "notas_estudiantes= {'Maria': [98, 79, 45], 'Jose': [88, 91, 95]}\n",
        "\n"
      ],
      "execution_count": 119,
      "outputs": []
    },
    {
      "cell_type": "code",
      "metadata": {
        "id": "Mlv7toWiOhvU"
      },
      "source": [
        "del notas_estudiantes['Maria']"
      ],
      "execution_count": 120,
      "outputs": []
    },
    {
      "cell_type": "code",
      "metadata": {
        "colab": {
          "base_uri": "https://localhost:8080/"
        },
        "id": "wuQ19KClOlSc",
        "outputId": "6078074d-f6a1-45cd-858e-f9fd6e867841"
      },
      "source": [
        "for nombre, notas in notas_estudiantes.items():\n",
        "  print(nombre)"
      ],
      "execution_count": 121,
      "outputs": [
        {
          "output_type": "stream",
          "text": [
            "Jose\n"
          ],
          "name": "stdout"
        }
      ]
    },
    {
      "cell_type": "code",
      "metadata": {
        "colab": {
          "base_uri": "https://localhost:8080/"
        },
        "id": "DJLfcEd3OoHO",
        "outputId": "9a3080c4-7d57-4d73-9841-e92305e11095"
      },
      "source": [
        "notas_estudiantes"
      ],
      "execution_count": 122,
      "outputs": [
        {
          "output_type": "execute_result",
          "data": {
            "text/plain": [
              "{'Jose': [88, 91, 95]}"
            ]
          },
          "metadata": {
            "tags": []
          },
          "execution_count": 122
        }
      ]
    },
    {
      "cell_type": "code",
      "metadata": {
        "id": "lwBJ-Y5NOrT1"
      },
      "source": [
        "notas_estudiantes['Maria'] = [79, 99, 67]"
      ],
      "execution_count": 123,
      "outputs": []
    },
    {
      "cell_type": "code",
      "metadata": {
        "colab": {
          "base_uri": "https://localhost:8080/"
        },
        "id": "QAN4JQsSOtuT",
        "outputId": "b7205506-67a9-4de3-f8dd-866cd233e7d9"
      },
      "source": [
        "'Rodrigo' in notas_estudiantes"
      ],
      "execution_count": 124,
      "outputs": [
        {
          "output_type": "execute_result",
          "data": {
            "text/plain": [
              "False"
            ]
          },
          "metadata": {
            "tags": []
          },
          "execution_count": 124
        }
      ]
    },
    {
      "cell_type": "markdown",
      "metadata": {
        "id": "ZziBKRKrPEVs"
      },
      "source": [
        "## Conjuntos"
      ]
    },
    {
      "cell_type": "code",
      "metadata": {
        "colab": {
          "base_uri": "https://localhost:8080/"
        },
        "id": "WXpDUV3rPDJQ",
        "outputId": "70441244-b1b5-42dc-c905-f8c50e4d6794"
      },
      "source": [
        "import itertools\n",
        "list(itertools.combinations('ABC', 2))"
      ],
      "execution_count": 125,
      "outputs": [
        {
          "output_type": "execute_result",
          "data": {
            "text/plain": [
              "[('A', 'B'), ('A', 'C'), ('B', 'C')]"
            ]
          },
          "metadata": {
            "tags": []
          },
          "execution_count": 125
        }
      ]
    },
    {
      "cell_type": "code",
      "metadata": {
        "colab": {
          "base_uri": "https://localhost:8080/"
        },
        "id": "2LDsItV8OwlU",
        "outputId": "4b0c713e-212c-495d-a38b-f2546191764a"
      },
      "source": [
        "\n",
        "\n",
        "list(itertools.combinations_with_replacement('ABC', 2))\n",
        "\n"
      ],
      "execution_count": 126,
      "outputs": [
        {
          "output_type": "execute_result",
          "data": {
            "text/plain": [
              "[('A', 'A'), ('A', 'B'), ('A', 'C'), ('B', 'B'), ('B', 'C'), ('C', 'C')]"
            ]
          },
          "metadata": {
            "tags": []
          },
          "execution_count": 126
        }
      ]
    },
    {
      "cell_type": "code",
      "metadata": {
        "colab": {
          "base_uri": "https://localhost:8080/"
        },
        "id": "6pRQgoOCPLHE",
        "outputId": "60a48a1b-9e5e-467f-fa80-5793f248c536"
      },
      "source": [
        "list(itertools.permutations('ABC', 2))"
      ],
      "execution_count": 127,
      "outputs": [
        {
          "output_type": "execute_result",
          "data": {
            "text/plain": [
              "[('A', 'B'), ('A', 'C'), ('B', 'A'), ('B', 'C'), ('C', 'A'), ('C', 'B')]"
            ]
          },
          "metadata": {
            "tags": []
          },
          "execution_count": 127
        }
      ]
    },
    {
      "cell_type": "code",
      "metadata": {
        "colab": {
          "base_uri": "https://localhost:8080/"
        },
        "id": "Tvx7JqjoPQaO",
        "outputId": "e44bc84b-3c5a-49b8-b5c5-43e692b6f871"
      },
      "source": [
        "c = itertools.product(('A', 'B', 'C'), repeat=2)\n",
        "list(c)"
      ],
      "execution_count": 128,
      "outputs": [
        {
          "output_type": "execute_result",
          "data": {
            "text/plain": [
              "[('A', 'A'),\n",
              " ('A', 'B'),\n",
              " ('A', 'C'),\n",
              " ('B', 'A'),\n",
              " ('B', 'B'),\n",
              " ('B', 'C'),\n",
              " ('C', 'A'),\n",
              " ('C', 'B'),\n",
              " ('C', 'C')]"
            ]
          },
          "metadata": {
            "tags": []
          },
          "execution_count": 128
        }
      ]
    },
    {
      "cell_type": "code",
      "metadata": {
        "colab": {
          "base_uri": "https://localhost:8080/"
        },
        "id": "4BWvlVazPTvE",
        "outputId": "92dbe969-a0b1-4de9-caba-7e9405a23155"
      },
      "source": [
        "c = itertools.combinations(('A', 'B', 'C'), 2)\n",
        "list(c)"
      ],
      "execution_count": 129,
      "outputs": [
        {
          "output_type": "execute_result",
          "data": {
            "text/plain": [
              "[('A', 'B'), ('A', 'C'), ('B', 'C')]"
            ]
          },
          "metadata": {
            "tags": []
          },
          "execution_count": 129
        }
      ]
    },
    {
      "cell_type": "code",
      "metadata": {
        "colab": {
          "base_uri": "https://localhost:8080/"
        },
        "id": "C1XIfVNFPYM5",
        "outputId": "eb8ae18b-7b87-442a-f317-bce9ac1c0edc"
      },
      "source": [
        "c = itertools.permutations(('A', 'B', 'C'), 2)\n",
        "list(c)"
      ],
      "execution_count": 130,
      "outputs": [
        {
          "output_type": "execute_result",
          "data": {
            "text/plain": [
              "[('A', 'B'), ('A', 'C'), ('B', 'A'), ('B', 'C'), ('C', 'A'), ('C', 'B')]"
            ]
          },
          "metadata": {
            "tags": []
          },
          "execution_count": 130
        }
      ]
    },
    {
      "cell_type": "markdown",
      "metadata": {
        "id": "Un3Yv8qwPgrU"
      },
      "source": [
        "\n",
        "#Tarea 02: Octavos de Final de la Champion League 2021\n",
        "\n",
        "¿Cual son los posibles combinaciones de partidos? ¿Cuantas combinaciones?\n",
        "\n",
        "Equipos finalistas: Porto, Roma, Manchester city, Dortmund, Bayer, Liverpool, Manchester City, PSG, Juventus, Atalanta, Barcelona, Sevilla, Real Madrid, RB Leipzig, Monchengladbach, Chelsea\n"
      ]
    },
    {
      "cell_type": "code",
      "metadata": {
        "id": "ZhAJw9B6Pawk"
      },
      "source": [
        ""
      ],
      "execution_count": null,
      "outputs": []
    }
  ]
}
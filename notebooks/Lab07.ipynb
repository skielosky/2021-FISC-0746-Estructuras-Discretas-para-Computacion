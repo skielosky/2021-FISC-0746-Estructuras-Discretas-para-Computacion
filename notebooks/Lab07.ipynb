{
  "nbformat": 4,
  "nbformat_minor": 0,
  "metadata": {
    "kernelspec": {
      "display_name": "Python 3",
      "language": "python",
      "name": "python3"
    },
    "language_info": {
      "codemirror_mode": {
        "name": "ipython",
        "version": 3
      },
      "file_extension": ".py",
      "mimetype": "text/x-python",
      "name": "python",
      "nbconvert_exporter": "python",
      "pygments_lexer": "ipython3",
      "version": "3.6.5"
    },
    "colab": {
      "name": "Lab07.ipynb",
      "provenance": []
    }
  },
  "cells": [
    {
      "cell_type": "markdown",
      "metadata": {
        "id": "kFlCzT7_qDr6"
      },
      "source": [
        "# Creando e instanciando Clases"
      ]
    },
    {
      "cell_type": "code",
      "metadata": {
        "id": "3pPNQvt0qDr8"
      },
      "source": [
        "# creando una primera clase\n",
        "\n",
        "class Auto():\n",
        "    pass    "
      ],
      "execution_count": 1,
      "outputs": []
    },
    {
      "cell_type": "code",
      "metadata": {
        "id": "JHGGE5HoqDr_",
        "colab": {
          "base_uri": "https://localhost:8080/"
        },
        "outputId": "fd7573c0-fc85-48d7-eefa-5618a0b5c2bc"
      },
      "source": [
        "# instanciando un object de una clase\n",
        "\n",
        "class Auto():\n",
        "    pass\n",
        "\n",
        "ford = Auto()   # Creas una instancia de la clase Auto y se almacena en la variable ford\n",
        "\n",
        "print(ford)"
      ],
      "execution_count": 2,
      "outputs": [
        {
          "output_type": "stream",
          "text": [
            "<__main__.Auto object at 0x7fe50a8f9250>\n"
          ],
          "name": "stdout"
        }
      ]
    },
    {
      "cell_type": "code",
      "metadata": {
        "id": "RSEV-PgBqDsD",
        "colab": {
          "base_uri": "https://localhost:8080/"
        },
        "outputId": "cd322895-9e77-41a7-d1eb-f45d3b31d53d"
      },
      "source": [
        "# Instancias varios object de una misma clase\n",
        "\n",
        "class Auto():\n",
        "    pass\n",
        "\n",
        "ford = Auto()\n",
        "bugatti_chiron = Auto()    # Creas otra instancia de la misma clase\n",
        "\n",
        "print(hash(ford))\n",
        "print(hash(bugatti_chiron))"
      ],
      "execution_count": 3,
      "outputs": [
        {
          "output_type": "stream",
          "text": [
            "8788850008933\n",
            "8788850008929\n"
          ],
          "name": "stdout"
        }
      ]
    },
    {
      "cell_type": "markdown",
      "metadata": {
        "id": "l4lyzJ4kqDsH"
      },
      "source": [
        "# Atributos"
      ]
    },
    {
      "cell_type": "code",
      "metadata": {
        "id": "-EFlr_7oqDsH",
        "colab": {
          "base_uri": "https://localhost:8080/"
        },
        "outputId": "ac9d2cf8-b776-47f7-c5de-b8ef0efab54f"
      },
      "source": [
        "# como definir atributos de clase\n",
        "\n",
        "class Auto():\n",
        "    bocina = 'beep beep'   \n",
        "    color = 'rojo'   \n",
        "\n",
        "ford = Auto()\n",
        "\n",
        "print(ford.color)   "
      ],
      "execution_count": 4,
      "outputs": [
        {
          "output_type": "stream",
          "text": [
            "rojo\n"
          ],
          "name": "stdout"
        }
      ]
    },
    {
      "cell_type": "code",
      "metadata": {
        "id": "2MrCOCIRqDsK",
        "colab": {
          "base_uri": "https://localhost:8080/"
        },
        "outputId": "b0268cba-7fc4-43d9-845d-2eb1524a7f51"
      },
      "source": [
        "# Cambiando el valor de un atributo\n",
        "\n",
        "class Auto():\n",
        "    bocina = 'beep beep'   \n",
        "    color = 'rojo'  \n",
        "    \n",
        "ford = Auto()\n",
        "\n",
        "print(ford.bocina)  \n",
        "\n",
        "ford.bocina = 'Tan tan'   \n",
        "\n",
        "print(ford.bocina)   "
      ],
      "execution_count": 5,
      "outputs": [
        {
          "output_type": "stream",
          "text": [
            "beep beep\n",
            "Tan tan\n"
          ],
          "name": "stdout"
        }
      ]
    },
    {
      "cell_type": "code",
      "metadata": {
        "id": "MMZALUPCqDsN",
        "colab": {
          "base_uri": "https://localhost:8080/"
        },
        "outputId": "f0d45905-424f-4682-e19b-b2995fa0001e"
      },
      "source": [
        "# usando el metodo init\n",
        "\n",
        "class Auto():\n",
        "    def __init__(self, color):\n",
        "        self.color = color    # establecer el atributo\n",
        "        \n",
        "ford = Auto('Blanco')   \n",
        "\n",
        "print(ford.color)"
      ],
      "execution_count": 6,
      "outputs": [
        {
          "output_type": "stream",
          "text": [
            "Blanco\n"
          ],
          "name": "stdout"
        }
      ]
    },
    {
      "cell_type": "code",
      "metadata": {
        "id": "HSFftdYJqDsP",
        "colab": {
          "base_uri": "https://localhost:8080/"
        },
        "outputId": "735015ae-9bd3-4c0a-a2fd-81bb57b4c1d9"
      },
      "source": [
        "\n",
        "\n",
        "class Auto():\n",
        "    def __init__(self, color, anyo):\n",
        "        self.color = color    \n",
        "        self.anyo = anyo\n",
        "        \n",
        "ford = Auto('Amarillo', 2016)   \n",
        "audi = Auto('rojo', 2021) \n",
        "\n",
        "print(ford.color, ford.anyo)\n",
        "print(audi.color, audi.anyo)"
      ],
      "execution_count": 7,
      "outputs": [
        {
          "output_type": "stream",
          "text": [
            "Amarillo 2016\n",
            "rojo 2021\n"
          ],
          "name": "stdout"
        }
      ]
    },
    {
      "cell_type": "code",
      "metadata": {
        "id": "eitMw5i9qDsS",
        "colab": {
          "base_uri": "https://localhost:8080/"
        },
        "outputId": "81d01ad8-f45e-4f92-fb45-5cc70063cc3d"
      },
      "source": [
        "# atributos globales\n",
        "\n",
        "class Auto():\n",
        "    bocina = 'beep' \n",
        "    \n",
        "    def __init__(self, color):\n",
        "        self.color = 'Amarillo'  \n",
        "        \n",
        "print(Auto.bocina)\n",
        "\n",
        "# print(Auto.color)  \n",
        "\n",
        "ford = Auto('Gris')\n",
        "\n",
        "print(ford.bocina, ford.color) "
      ],
      "execution_count": 8,
      "outputs": [
        {
          "output_type": "stream",
          "text": [
            "beep\n",
            "beep Amarillo\n"
          ],
          "name": "stdout"
        }
      ]
    },
    {
      "cell_type": "markdown",
      "metadata": {
        "id": "0v3Y0wAeqDsV"
      },
      "source": [
        "# Metodos"
      ]
    },
    {
      "cell_type": "code",
      "metadata": {
        "id": "gujs_33XqDsV",
        "colab": {
          "base_uri": "https://localhost:8080/"
        },
        "outputId": "79365ff3-905a-4cba-d57e-6994352b4ec0"
      },
      "source": [
        "# Definir Metodos\n",
        "\n",
        "class Perro():\n",
        "    def hacerSonido(self):\n",
        "        print('Ladrar!')\n",
        "        \n",
        "hunter = Perro()\n",
        "\n",
        "hunter.hacerSonido()"
      ],
      "execution_count": 9,
      "outputs": [
        {
          "output_type": "stream",
          "text": [
            "Ladrar!\n"
          ],
          "name": "stdout"
        }
      ]
    },
    {
      "cell_type": "code",
      "metadata": {
        "id": "IrsxloLUqDsX",
        "colab": {
          "base_uri": "https://localhost:8080/"
        },
        "outputId": "da08981e-cdc0-4c73-f58f-4598332aec42"
      },
      "source": [
        "# using the self keyword to access attributes within class methods\n",
        "\n",
        "class Perro():\n",
        "    sonido = 'Ladrar!'\n",
        "    \n",
        "    def hacerSonido(self):\n",
        "        print(self.sonido)   \n",
        "        \n",
        "hunter2 = Perro()\n",
        "\n",
        "hunter2.hacerSonido()"
      ],
      "execution_count": 10,
      "outputs": [
        {
          "output_type": "stream",
          "text": [
            "Ladrar!\n"
          ],
          "name": "stdout"
        }
      ]
    },
    {
      "cell_type": "code",
      "metadata": {
        "id": "oCnBZqjaqDsZ",
        "colab": {
          "base_uri": "https://localhost:8080/"
        },
        "outputId": "7a511e6b-aea2-4454-c0bb-7c218c43284a"
      },
      "source": [
        "class Perro():\n",
        "    sonido = 'Ladrar!'\n",
        "    \n",
        "    def hacerSonido(self):\n",
        "        print(self.sonido)  \n",
        "        \n",
        "    def printInfo():\n",
        "        print('Soy un Perro Labrador')\n",
        "        \n",
        "Perro.printInfo()  \n",
        "\n",
        "\n",
        "hunter = Perro()\n",
        "\n",
        "hunter.hacerSonido() "
      ],
      "execution_count": 11,
      "outputs": [
        {
          "output_type": "stream",
          "text": [
            "Soy un Perro Labrador\n",
            "Ladrar!\n"
          ],
          "name": "stdout"
        }
      ]
    },
    {
      "cell_type": "markdown",
      "metadata": {
        "id": "OPA1hHGPqDs1"
      },
      "source": [
        "# Tarea"
      ]
    },
    {
      "cell_type": "code",
      "metadata": {
        "id": "vZ3pWjPoqDsd",
        "colab": {
          "base_uri": "https://localhost:8080/"
        },
        "outputId": "7283ddaf-0c9c-4b86-85a0-6ecfa684cb0c"
      },
      "source": [
        "# writing methods that accept parameters\n",
        "\n",
        "class Perro():\n",
        "    def mostrarEdad(self, edad):\n",
        "        print(edad)   \n",
        "        \n",
        "hunter = Perro()\n",
        "\n",
        "hunter.mostrarEdad(6)"
      ],
      "execution_count": 12,
      "outputs": [
        {
          "output_type": "stream",
          "text": [
            "6\n"
          ],
          "name": "stdout"
        }
      ]
    },
    {
      "cell_type": "code",
      "metadata": {
        "id": "B9EpiQLAueoB",
        "colab": {
          "base_uri": "https://localhost:8080/"
        },
        "outputId": "95e3b668-98f4-4ab9-ddd2-e8eb6ff85eb2"
      },
      "source": [
        "class Persona():\n",
        "    def __init__(self, nombre):\n",
        "        self.nombre = nombre\n",
        "        self.edad = 0\n",
        "        \n",
        "    def establecerEdad(self, edad):\n",
        "        self.edad = edad\n",
        "        \n",
        "    def ObtenerEdad(self):\n",
        "        return self.edad\n",
        "    \n",
        "p = Persona('Katherine')\n",
        "\n",
        "numero = input('Cuantos años tienes? ')\n",
        "\n",
        "p.establecerEdad(numero)\n",
        "\n",
        "print('Tienes {} años.'.format(p.ObtenerEdad()))"
      ],
      "execution_count": 13,
      "outputs": [
        {
          "output_type": "stream",
          "text": [
            "Cuantos años tienes? 22\n",
            "Tienes 22 años.\n"
          ],
          "name": "stdout"
        }
      ]
    },
    {
      "cell_type": "markdown",
      "metadata": {
        "id": "s4sIJ1c1qDs1"
      },
      "source": [
        "<p>\n",
        "1. <b>Animales:</b>Crear una clase llamada Animal y crear dos instancias de esa clase. Utilizar dos variables llamadas Leon y Tigre.\n",
        "</p>"
      ]
    },
    {
      "cell_type": "code",
      "metadata": {
        "id": "yS1Buh9BqDs2"
      },
      "source": [
        ""
      ],
      "execution_count": 13,
      "outputs": []
    },
    {
      "cell_type": "code",
      "metadata": {
        "id": "5ZvcXMX6qDs4"
      },
      "source": [
        ""
      ],
      "execution_count": 13,
      "outputs": []
    },
    {
      "cell_type": "markdown",
      "metadata": {
        "id": "fyXyIBZgqDs7"
      },
      "source": [
        "# Tarea"
      ]
    },
    {
      "cell_type": "markdown",
      "metadata": {
        "id": "9vCQABAeqDs9"
      },
      "source": [
        "<p>\n",
        "1. <b>Perro:</b>  Crear una clase Perro que tenga una variable global y dos atributos. El atributo global es especie y el valor Canino. Las dos instancias de atributos son nombre y raza. Las instancias de objetos tiene dos objetos Perros, un Pastor Aleman llamado Rayo y un Schnauzer llamada Perla.\n",
        "</p>"
      ]
    },
    {
      "cell_type": "code",
      "metadata": {
        "id": "-ouHSOcNqDs9"
      },
      "source": [
        ""
      ],
      "execution_count": 13,
      "outputs": []
    },
    {
      "cell_type": "markdown",
      "metadata": {
        "id": "zGyqdk_GqDtD"
      },
      "source": [
        "\n"
      ]
    }
  ]
}